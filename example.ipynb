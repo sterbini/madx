{
 "cells": [
  {
   "cell_type": "code",
   "execution_count": 4,
   "metadata": {},
   "outputs": [],
   "source": [
    "# To run this code you need python 3 + the standard packages like numpy, scipy, matplotlib, pandas\n",
    "# and a special package 'madx' that you can find at https://github.com/sterbini/cl2pd and you can install with\n",
    "# pip install git+https://github.com/sterbini/madx.git\n",
    "# The package is tested only on Mac. It should be working also on UNIX-like environment but it is not working on WIN.\n",
    "from matplotlib import pyplot as plt\n",
    "from madx import madx\n",
    "from collections import OrderedDict"
   ]
  },
  {
   "cell_type": "code",
   "execution_count": 5,
   "metadata": {},
   "outputs": [
    {
     "name": "stdout",
     "output_type": "stream",
     "text": [
      "  ++++++++++++++++++++++++++++++++++++++++++++\n",
      "  +     MAD-X 5.02.13  (64 bit, Darwin)      +\n",
      "  + Support: mad@cern.ch, http://cern.ch/mad +\n",
      "  + Release   date: 2016.12.20               +\n",
      "  + Execution date: 2019.01.21 21:12:14      +\n",
      "  ++++++++++++++++++++++++++++++++++++++++++++\n",
      "\n",
      "\n"
     ]
    }
   ],
   "source": [
    "madExecutable = '/usr/local/bin/madx'\n",
    "myMad = madx.MadX(madExecutable)"
   ]
  },
  {
   "cell_type": "markdown",
   "metadata": {},
   "source": [
    "# An introduction to MAD-X\n",
    "\n",
    "In this first part we are going to get familiar with MAD-X syntax. This is an extension of what it is required from the tutorial.\n",
    "\n",
    "For more information please refer to the [MAD-X online manual](http://cern.ch/madx/releases/last-rel/madxuguide.pdf).\n"
   ]
  },
  {
   "cell_type": "code",
   "execution_count": 6,
   "metadata": {},
   "outputs": [
    {
     "name": "stdout",
     "output_type": "stream",
     "text": [
      "stop;\n",
      "  Number of warnings: 0\n",
      "  ++++++++++++++++++++++++++++++++++++++++++++\n",
      "  +          MAD-X finished normally         +\n",
      "  ++++++++++++++++++++++++++++++++++++++++++++\n"
     ]
    }
   ],
   "source": [
    "myString='''\n",
    "stop;\n",
    "'''\n",
    "myMad.input(myString);"
   ]
  },
  {
   "cell_type": "markdown",
   "metadata": {},
   "source": [
    "With the 'stop;' instruction we exit from MAD-X, so, as done in the following cell we need to re-istantiate our MAD-X object with the \n",
    "**myMad = madx.MadX(madExecutable)** instruction.\n",
    "\n",
    "---\n",
    "It is a good practice to make header, please use '!' to comment the single line."
   ]
  },
  {
   "cell_type": "code",
   "execution_count": 8,
   "metadata": {},
   "outputs": [
    {
     "name": "stdout",
     "output_type": "stream",
     "text": [
      "  ++++++++++++++++++++++++++++++++++++++++++++\n",
      "  +     MAD-X 5.02.13  (64 bit, Darwin)      +\n",
      "  + Support: mad@cern.ch, http://cern.ch/mad +\n",
      "  + Release   date: 2016.12.20               +\n",
      "  + Execution date: 2019.01.21 21:14:31      +\n",
      "  ++++++++++++++++++++++++++++++++++++++++++++\n",
      "\n",
      "\n",
      "!***************************************\n",
      "! It is a good practice to make a header\n",
      "!***************************************\n",
      "title,'My test'; \n",
      "value, title;\n",
      "title              =                  0 ;\n"
     ]
    }
   ],
   "source": [
    "myMad = madx.MadX(madExecutable)\n",
    "myString='''\n",
    "!***************************************\n",
    "! It is a good practice to make a header\n",
    "!***************************************\n",
    "title,'My test'; \n",
    "value, title;\n",
    "'''\n",
    "myMad.input(myString);"
   ]
  },
  {
   "cell_type": "markdown",
   "metadata": {},
   "source": [
    "---\n",
    "Print the version of MAD-X"
   ]
  },
  {
   "cell_type": "code",
   "execution_count": 9,
   "metadata": {},
   "outputs": [
    {
     "name": "stdout",
     "output_type": "stream",
     "text": [
      "value, VERSION;\n",
      "version            =              50213 ;\n"
     ]
    }
   ],
   "source": [
    "myString='''\n",
    "value, VERSION;\n",
    "'''\n",
    "myMad.input(myString);"
   ]
  },
  {
   "cell_type": "markdown",
   "metadata": {},
   "source": [
    "--- \n",
    "Use the **help** keyword (very rudimental help)"
   ]
  },
  {
   "cell_type": "code",
   "execution_count": 10,
   "metadata": {},
   "outputs": [
    {
     "name": "stdout",
     "output_type": "stream",
     "text": [
      "help, title;\n",
      "command: title  module: control\n",
      "parameter: dummy   string: 0\n"
     ]
    }
   ],
   "source": [
    "myString='''\n",
    "help, title;\n",
    "'''\n",
    "myMad.input(myString);"
   ]
  },
  {
   "cell_type": "markdown",
   "metadata": {},
   "source": [
    "---\n",
    "This is an example to make a system call, just for showing you how to do it. The system call string (in this case 'pwd') depends on the Operating System."
   ]
  },
  {
   "cell_type": "code",
   "execution_count": 13,
   "metadata": {},
   "outputs": [
    {
     "name": "stdout",
     "output_type": "stream",
     "text": [
      "system,'date';\n",
      "Mon Jan 21 21:15:01 CET 2019\n"
     ]
    }
   ],
   "source": [
    "myString='''\n",
    "system,'date';\n",
    "'''\n",
    "myMad.input(myString);\n"
   ]
  },
  {
   "cell_type": "markdown",
   "metadata": {},
   "source": [
    "---\n",
    "This is an example to get familiar with the use of the physical constants and the formatting of the output. Have a look on the difference."
   ]
  },
  {
   "cell_type": "code",
   "execution_count": 14,
   "metadata": {},
   "outputs": [
    {
     "name": "stdout",
     "output_type": "stream",
     "text": [
      "a=pi;\n",
      "value a; \n",
      "a                  =        3.141592654 ;\n",
      "set, format=\"22.20e\";\n",
      "value a; \n",
      "a                  = 3.14159265358979311600e+00 ;\n",
      "! reset to nominal values\n",
      "option,reset=True;\n",
      "set, format=\"10d\", \"18.10g\", \"-18s\";\n"
     ]
    }
   ],
   "source": [
    "myString='''\n",
    "a=pi;\n",
    "value a; \n",
    "set, format=\"22.20e\";\n",
    "value a; \n",
    "! reset to nominal values\n",
    "option,reset=True;\n",
    "set, format=\"10d\", \"18.10g\", \"-18s\";\n",
    "'''\n",
    "myMad.input(myString);"
   ]
  },
  {
   "cell_type": "markdown",
   "metadata": {},
   "source": [
    "---\n",
    "This is an example to get familiar with **if** and deferred expression. Please note the after the block delimited with **{...}** the **;** can be omitted. Pay attention to circular call!"
   ]
  },
  {
   "cell_type": "code",
   "execution_count": 15,
   "metadata": {},
   "outputs": [
    {
     "name": "stdout",
     "output_type": "stream",
     "text": [
      "if (1==1){\n",
      "option, echo=false, info=true;\n",
      "a=pi;\n",
      "b:=a;\n",
      "c=a;\n",
      "value a; \n",
      "value b;\n",
      "value c;\n",
      "a=CLIGHT*cos(a);\n",
      "value a;\n",
      "value b;\n",
      "value c;}\n",
      "++++++ info: a redefined\n",
      "a                  =        3.141592654 ;\n",
      "b                  =        3.141592654 ;\n",
      "c                  =        3.141592654 ;\n",
      "++++++ info: a redefined\n",
      "a                  =         -299792458 ;\n",
      "b                  =         -299792458 ;\n",
      "c                  =        3.141592654 ;\n"
     ]
    }
   ],
   "source": [
    "myString='''\n",
    "if (1==1){\n",
    "option, echo=false, info=true;\n",
    "a=pi;\n",
    "b:=a;\n",
    "c=a;\n",
    "value a; \n",
    "value b;\n",
    "value c;\n",
    "a=CLIGHT*cos(a);\n",
    "value a;\n",
    "value b;\n",
    "value c;}\n",
    "! BEWARE of circular call!\n",
    "!a:=a+1;\n",
    "! When evaluating you will get a fatal error\n",
    "! value a; \n",
    "option, echo=true, info=true;\n",
    "'''\n",
    "myMad.input(myString);"
   ]
  },
  {
   "cell_type": "markdown",
   "metadata": {},
   "source": [
    "---\n",
    "This is an example to get familiar with **while** and **macros** loops."
   ]
  },
  {
   "cell_type": "code",
   "execution_count": 16,
   "metadata": {},
   "outputs": [
    {
     "name": "stdout",
     "output_type": "stream",
     "text": [
      "a(myvariable1,myvariable2): macro = {\n",
      "value, myvariable1;\n",
      "value, myvariable1*myvariable2;\n",
      "}\n",
      "N=1;\n",
      "while (N<10){\n",
      "exec, a(N,N);\n",
      "N=N+1;\n",
      "}\n",
      "n                  =                  1 ;\n",
      "n*n                =                  1 ;\n",
      "++++++ info: n redefined\n",
      "n                  =                  2 ;\n",
      "n*n                =                  4 ;\n",
      "++++++ info: n redefined\n",
      "n                  =                  3 ;\n",
      "n*n                =                  9 ;\n",
      "++++++ info: n redefined\n",
      "n                  =                  4 ;\n",
      "n*n                =                 16 ;\n",
      "++++++ info: n redefined\n",
      "n                  =                  5 ;\n",
      "n*n                =                 25 ;\n",
      "++++++ info: n redefined\n",
      "n                  =                  6 ;\n",
      "n*n                =                 36 ;\n",
      "++++++ info: n redefined\n",
      "n                  =                  7 ;\n",
      "n*n                =                 49 ;\n",
      "++++++ info: n redefined\n",
      "n                  =                  8 ;\n",
      "n*n                =                 64 ;\n",
      "++++++ info: n redefined\n",
      "n                  =                  9 ;\n",
      "n*n                =                 81 ;\n",
      "++++++ info: n redefined\n"
     ]
    }
   ],
   "source": [
    "myString='''\n",
    "a(myvariable1,myvariable2): macro = {\n",
    "value, myvariable1;\n",
    "value, myvariable1*myvariable2;\n",
    "}\n",
    "\n",
    "N=1;\n",
    "while (N<10){\n",
    "exec, a(N,N);\n",
    "N=N+1;\n",
    "}\n",
    "'''\n",
    "myMad.input(myString);"
   ]
  },
  {
   "cell_type": "markdown",
   "metadata": {},
   "source": [
    "---\n",
    "### List of functions\n",
    "In MAD-X the following functions are available\n",
    "\n",
    "- SQRT(x) square root,\n",
    "- LOG(x) natural logarithm,\n",
    "- LOG10(x) logarithm base 10,\n",
    "- EXP(x) exponential,\n",
    "- SIN(x) trigonometric sine,\n",
    "- COS(x) trigonometric cosine,\n",
    "- TAN(x) trigonometric tangent,\n",
    "- ASIN(x) arc sine,\n",
    "- ACOS(x) arc cosine,\n",
    "- ATAN(x) arc tangent,\n",
    "- SINH(x) hyperbolic sine,\n",
    "- COSH(x) hyperbolic cosine,\n",
    "- TANH(x) hyperbolic tangent,\n",
    "- SINC(x) cardinal sine function,\n",
    "- ABS(x) absolute value,\n",
    "- ERF(x) Gauss error,\n",
    "- ERFC(x) complementary error,\n",
    "- FLOOR(x) floor, largest previous integer,\n",
    "- CEIL(x) ceiling, smallest next integer,\n",
    "- ROUND(x) round, closest integer,\n",
    "- FRAC(x) fractional part of number,\n",
    "- RANF() random number, uniformly distributed in [0,1],\n",
    "- GAUSS() random number, gaussian distribution with unit standard deviation,\n",
    "- TGAUSS(x) random number, gaussian distribution with unit standard deviation, truncated at x standard deviations;"
   ]
  },
  {
   "cell_type": "code",
   "execution_count": 17,
   "metadata": {},
   "outputs": [
    {
     "name": "stdout",
     "output_type": "stream",
     "text": [
      "value, 1+1.2;\n",
      "1+1.2              =                2.2 ;\n",
      "value, 1-1.2;\n",
      "1-1.2              =               -0.2 ;\n",
      "value, 1*1.2;\n",
      "1*1.2              =                1.2 ;\n",
      "value, 1/1.2;\n",
      "1/1.2              =       0.8333333333 ;\n",
      "value, 2^0.5;\n",
      "2^0.5              =        1.414213562 ;\n",
      "value, 1/0;\n",
      "++++++ warning: division by zero, result set to zero, expr: 1/0\n",
      "1/0                =                  0 ;\n",
      "value, 2^-0.5;\n",
      "++++++ warning: invalid expression: 2^-0.5\n",
      "value, sqrt(3);\n",
      "sqrt(3)            =        1.732050808 ;\n",
      "value, log(10);\n",
      "log(10)            =        2.302585093 ;\n",
      "value, log10(10^2);\n",
      "log10(10^2)        =                  2 ;\n",
      "value, exp(0);\n",
      "exp(0)             =                  1 ;\n",
      "value, sin(pi/2);\n",
      "sin(pi/2)          =                  1 ;\n",
      "value, cos(sqrt(2)/2);\n",
      "cos(sqrt(2)/2)     =       0.7602445971 ;\n",
      "value, tan(pi/2);\n",
      "tan(pi/2)          =    1.633123935e+16 ;\n",
      "value, asin(0);\n",
      "asin(0)            =                  0 ;\n",
      "value, acos(0);\n",
      "acos(0)            =        1.570796327 ;\n",
      "value, atan(0);\n",
      "atan(0)            =                  0 ;\n",
      "value, sinh(pi/2);\n",
      "sinh(pi/2)         =        2.301298902 ;\n",
      "value, cosh(sqrt(2)/2);\n",
      "cosh(sqrt(2)/2)    =        1.260591837 ;\n",
      "value, tanh(pi/2);\n",
      "tanh(pi/2)         =       0.9171523357 ;\n",
      "value, sinc(0);\n",
      "sinc(0)            =                  1 ;\n",
      "value, abs(-1.2);\n",
      "abs(0-1.2)         =                1.2 ;\n",
      "value, erf(1);\n",
      "erf(1)             =       0.8427007929 ;\n",
      "value, 1-erfc(1);\n",
      "1-erfc(1)          =       0.8427007929 ;\n",
      "value, ceil(2.3);\n",
      "ceil(2.3)          =                  3 ;\n",
      "value, round(2.3);\n",
      "round(2.3)         =                  2 ;\n",
      "value, frac(2.3);\n",
      "frac(2.3)          =                0.3 ;\n",
      "value, ranf();\n",
      "ranf(0)            =        0.549630919 ;\n",
      "value, gauss();\n",
      "gauss(0)           =        1.974795476 ;\n",
      "value, tgauss(.1);\n",
      "tgauss(.1)         =      0.03820673789 ;\n"
     ]
    }
   ],
   "source": [
    "myString='''\n",
    "value, 1+1.2;\n",
    "value, 1-1.2;\n",
    "value, 1*1.2;\n",
    "value, 1/1.2;\n",
    "value, 2^0.5;\n",
    "value, 1/0;\n",
    "value, 2^-0.5;\n",
    "value, sqrt(3);\n",
    "value, log(10);\n",
    "value, log10(10^2);\n",
    "value, exp(0);\n",
    "value, sin(pi/2);\n",
    "value, cos(sqrt(2)/2);\n",
    "value, tan(pi/2);\n",
    "value, asin(0);\n",
    "value, acos(0);\n",
    "value, atan(0);\n",
    "value, sinh(pi/2);\n",
    "value, cosh(sqrt(2)/2);\n",
    "value, tanh(pi/2);\n",
    "value, sinc(0);\n",
    "value, abs(-1.2);\n",
    "value, erf(1);\n",
    "value, 1-erfc(1);\n",
    "value, ceil(2.3);\n",
    "value, round(2.3);\n",
    "value, frac(2.3);\n",
    "value, ranf();\n",
    "value, gauss();\n",
    "value, tgauss(.1);\n",
    "'''\n",
    "myMad.input(myString)"
   ]
  },
  {
   "cell_type": "markdown",
   "metadata": {},
   "source": [
    "---\n",
    "### List of physical constant\n",
    "\n",
    "| MAD-X name  | symbol  |  value |unit|\n",
    "|:-:|:-:|:-:|:-:|\n",
    "|PI| π |4 * atan(1)| 1|\n",
    "|TWOPI|2π| 2 * PI| 1|\n",
    "|DEGRAD| 180/π |180 / PI| deg/rad|\n",
    "|RADDEG| π/180 |PI / 180 |rad/deg|\n",
    "|E| e |exp(1) |1|\n",
    "|EMASS| me |0.510998928e−3| GeV|\n",
    "|PMASS| mp |0.938272046| GeV|\n",
    "|NMASS| u |0.931494061| GeV|\n",
    "|MUMASS| mµ| 0.1056583715 |GeV|\n",
    "|CLIGHT| c| 299792458| m/s|\n",
    "|QELECT| e| 1.602176565e−19| A.s|\n",
    "|HBAR| ¯h| 6.58211928e−25| MeV.s|\n",
    "|ERAD| re| 2.8179403267e−15| m|\n",
    "|PRAD| re(me/mp)| ERAD*EMASS/PMASS| m|\n"
   ]
  },
  {
   "cell_type": "code",
   "execution_count": 18,
   "metadata": {},
   "outputs": [
    {
     "name": "stdout",
     "output_type": "stream",
     "text": [
      "value, pi;\n",
      "pi                 =        3.141592654 ;\n",
      "value, twopi;\n",
      "twopi              =        6.283185307 ;\n",
      "value, raddeg;\n",
      "raddeg             =      0.01745329252 ;\n",
      "value, degrad;\n",
      "degrad             =        57.29577951 ;\n",
      "value, e;\n",
      "e                  =        2.718281828 ;\n",
      "value, emass;\n",
      "emass              =     0.000510998928 ;\n",
      "value, pmass;\n",
      "pmass              =        0.938272046 ;\n",
      "value, nmass;\n",
      "nmass              =        0.931494061 ;\n",
      "value, mumass;\n",
      "mumass             =       0.1056583715 ;\n",
      "value, clight;\n",
      "clight             =          299792458 ;\n",
      "value, qelect;\n",
      "qelect             =    1.602176565e-19 ;\n",
      "value, hbar;\n",
      "hbar               =     6.58211928e-25 ;\n",
      "value, erad;\n",
      "erad               =    2.817940327e-15 ;\n",
      "value, prad;\n",
      "prad               =     1.53469827e-18 ;\n"
     ]
    }
   ],
   "source": [
    "myString='''\n",
    "value, pi;\n",
    "value, twopi;\n",
    "value, raddeg;\n",
    "value, degrad;\n",
    "value, e;\n",
    "value, emass;\n",
    "value, pmass;\n",
    "value, nmass;\n",
    "value, mumass;\n",
    "value, clight;\n",
    "value, qelect;\n",
    "value, hbar;\n",
    "value, erad;\n",
    "value, prad;\n",
    "'''\n",
    "myMad.input(myString)"
   ]
  }
 ],
 "metadata": {
  "kernelspec": {
   "display_name": "Python 3",
   "language": "python",
   "name": "python3"
  },
  "language_info": {
   "codemirror_mode": {
    "name": "ipython",
    "version": 3
   },
   "file_extension": ".py",
   "mimetype": "text/x-python",
   "name": "python",
   "nbconvert_exporter": "python",
   "pygments_lexer": "ipython3",
   "version": "3.5.6"
  }
 },
 "nbformat": 4,
 "nbformat_minor": 2
}
