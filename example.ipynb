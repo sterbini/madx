{
 "cells": [
  {
   "cell_type": "code",
   "execution_count": 4,
   "metadata": {},
   "outputs": [],
   "source": [
    "# To run this code you need python 3 + the standard packages like numpy, scipy, matplotlib, pandas\n",
    "# and a special package 'madx' that you can find at https://github.com/sterbini/cl2pd and you can install with\n",
    "# pip install git+https://github.com/sterbini/madx.git\n",
    "# The package is tested only on Mac. It should be working also on UNIX-like environment but it is not working on WIN.\n",
    "from matplotlib import pyplot as plt\n",
    "from madx import madx\n",
    "from collections import OrderedDict"
   ]
  },
  {
   "cell_type": "code",
   "execution_count": 5,
   "metadata": {},
   "outputs": [
    {
     "name": "stdout",
     "output_type": "stream",
     "text": [
      "  ++++++++++++++++++++++++++++++++++++++++++++\n",
      "  +     MAD-X 5.02.13  (64 bit, Darwin)      +\n",
      "  + Support: mad@cern.ch, http://cern.ch/mad +\n",
      "  + Release   date: 2016.12.20               +\n",
      "  + Execution date: 2019.01.21 21:12:14      +\n",
      "  ++++++++++++++++++++++++++++++++++++++++++++\n",
      "\n",
      "\n"
     ]
    }
   ],
   "source": [
    "madExecutable = '/usr/local/bin/madx'\n",
    "myMad = madx.MadX(madExecutable)"
   ]
  },
  {
   "cell_type": "markdown",
   "metadata": {},
   "source": [
    "# An introduction to MAD-X\n",
    "\n",
    "In this first part we are going to get familiar with MAD-X syntax. This is an extension of what it is required from the tutorial.\n",
    "\n",
    "For more information please refer to the [MAD-X online manual](http://cern.ch/madx/releases/last-rel/madxuguide.pdf).\n"
   ]
  },
  {
   "cell_type": "code",
   "execution_count": 6,
   "metadata": {},
   "outputs": [
    {
     "name": "stdout",
     "output_type": "stream",
     "text": [
      "stop;\n",
      "  Number of warnings: 0\n",
      "  ++++++++++++++++++++++++++++++++++++++++++++\n",
      "  +          MAD-X finished normally         +\n",
      "  ++++++++++++++++++++++++++++++++++++++++++++\n"
     ]
    }
   ],
   "source": [
    "myString='''\n",
    "stop;\n",
    "'''\n",
    "myMad.input(myString);"
   ]
  },
  {
   "cell_type": "markdown",
   "metadata": {},
   "source": [
    "With the 'stop;' instruction we exit from MAD-X, so, as done in the following cell we need to re-istantiate our MAD-X object with the \n",
    "**myMad = madx.MadX(madExecutable)** instruction.\n",
    "\n",
    "---\n",
    "It is a good practice to make header, please use '!' to comment the single line."
   ]
  },
  {
   "cell_type": "code",
   "execution_count": 8,
   "metadata": {},
   "outputs": [
    {
     "name": "stdout",
     "output_type": "stream",
     "text": [
      "  ++++++++++++++++++++++++++++++++++++++++++++\n",
      "  +     MAD-X 5.02.13  (64 bit, Darwin)      +\n",
      "  + Support: mad@cern.ch, http://cern.ch/mad +\n",
      "  + Release   date: 2016.12.20               +\n",
      "  + Execution date: 2019.01.21 21:14:31      +\n",
      "  ++++++++++++++++++++++++++++++++++++++++++++\n",
      "\n",
      "\n",
      "!***************************************\n",
      "! It is a good practice to make a header\n",
      "!***************************************\n",
      "title,'My test'; \n",
      "value, title;\n",
      "title              =                  0 ;\n"
     ]
    }
   ],
   "source": [
    "myMad = madx.MadX(madExecutable)\n",
    "myString='''\n",
    "!***************************************\n",
    "! It is a good practice to make a header\n",
    "!***************************************\n",
    "title,'My test'; \n",
    "value, title;\n",
    "'''\n",
    "myMad.input(myString);"
   ]
  },
  {
   "cell_type": "markdown",
   "metadata": {},
   "source": [
    "---\n",
    "Print the version of MAD-X"
   ]
  },
  {
   "cell_type": "code",
   "execution_count": 9,
   "metadata": {},
   "outputs": [
    {
     "name": "stdout",
     "output_type": "stream",
     "text": [
      "value, VERSION;\n",
      "version            =              50213 ;\n"
     ]
    }
   ],
   "source": [
    "myString='''\n",
    "value, VERSION;\n",
    "'''\n",
    "myMad.input(myString);"
   ]
  },
  {
   "cell_type": "markdown",
   "metadata": {},
   "source": [
    "--- \n",
    "Use the **help** keyword (very rudimental help)"
   ]
  },
  {
   "cell_type": "code",
   "execution_count": 10,
   "metadata": {},
   "outputs": [
    {
     "name": "stdout",
     "output_type": "stream",
     "text": [
      "help, title;\n",
      "command: title  module: control\n",
      "parameter: dummy   string: 0\n"
     ]
    }
   ],
   "source": [
    "myString='''\n",
    "help, title;\n",
    "'''\n",
    "myMad.input(myString);"
   ]
  },
  {
   "cell_type": "markdown",
   "metadata": {},
   "source": [
    "---\n",
    "This is an example to make a system call, just for showing you how to do it. The system call string (in this case 'pwd') depends on the Operating System."
   ]
  },
  {
   "cell_type": "code",
   "execution_count": 13,
   "metadata": {},
   "outputs": [
    {
     "name": "stdout",
     "output_type": "stream",
     "text": [
      "system,'date';\n",
      "Mon Jan 21 21:15:01 CET 2019\n"
     ]
    }
   ],
   "source": [
    "myString='''\n",
    "system,'date';\n",
    "'''\n",
    "myMad.input(myString);\n"
   ]
  },
  {
   "cell_type": "markdown",
   "metadata": {},
   "source": [
    "---\n",
    "This is an example to get familiar with the use of the physical constants and the formatting of the output. Have a look on the difference."
   ]
  },
  {
   "cell_type": "code",
   "execution_count": 14,
   "metadata": {},
   "outputs": [
    {
     "name": "stdout",
     "output_type": "stream",
     "text": [
      "a=pi;\n",
      "value a; \n",
      "a                  =        3.141592654 ;\n",
      "set, format=\"22.20e\";\n",
      "value a; \n",
      "a                  = 3.14159265358979311600e+00 ;\n",
      "! reset to nominal values\n",
      "option,reset=True;\n",
      "set, format=\"10d\", \"18.10g\", \"-18s\";\n"
     ]
    }
   ],
   "source": [
    "myString='''\n",
    "a=pi;\n",
    "value a; \n",
    "set, format=\"22.20e\";\n",
    "value a; \n",
    "! reset to nominal values\n",
    "option,reset=True;\n",
    "set, format=\"10d\", \"18.10g\", \"-18s\";\n",
    "'''\n",
    "myMad.input(myString);"
   ]
  },
  {
   "cell_type": "markdown",
   "metadata": {},
   "source": [
    "---\n",
    "This is an example to get familiar with **if** and deferred expression. Please note the after the block delimited with **{...}** the **;** can be omitted. Pay attention to circular call!"
   ]
  },
  {
   "cell_type": "code",
   "execution_count": 15,
   "metadata": {},
   "outputs": [
    {
     "name": "stdout",
     "output_type": "stream",
     "text": [
      "if (1==1){\n",
      "option, echo=false, info=true;\n",
      "a=pi;\n",
      "b:=a;\n",
      "c=a;\n",
      "value a; \n",
      "value b;\n",
      "value c;\n",
      "a=CLIGHT*cos(a);\n",
      "value a;\n",
      "value b;\n",
      "value c;}\n",
      "++++++ info: a redefined\n",
      "a                  =        3.141592654 ;\n",
      "b                  =        3.141592654 ;\n",
      "c                  =        3.141592654 ;\n",
      "++++++ info: a redefined\n",
      "a                  =         -299792458 ;\n",
      "b                  =         -299792458 ;\n",
      "c                  =        3.141592654 ;\n"
     ]
    }
   ],
   "source": [
    "myString='''\n",
    "if (1==1){\n",
    "option, echo=false, info=true;\n",
    "a=pi;\n",
    "b:=a;\n",
    "c=a;\n",
    "value a; \n",
    "value b;\n",
    "value c;\n",
    "a=CLIGHT*cos(a);\n",
    "value a;\n",
    "value b;\n",
    "value c;}\n",
    "! BEWARE of circular call!\n",
    "!a:=a+1;\n",
    "! When evaluating you will get a fatal error\n",
    "! value a; \n",
    "option, echo=true, info=true;\n",
    "'''\n",
    "myMad.input(myString);"
   ]
  },
  {
   "cell_type": "markdown",
   "metadata": {},
   "source": [
    "---\n",
    "This is an example to get familiar with **while** and **macros** loops."
   ]
  },
  {
   "cell_type": "code",
   "execution_count": 16,
   "metadata": {},
   "outputs": [
    {
     "name": "stdout",
     "output_type": "stream",
     "text": [
      "a(myvariable1,myvariable2): macro = {\n",
      "value, myvariable1;\n",
      "value, myvariable1*myvariable2;\n",
      "}\n",
      "N=1;\n",
      "while (N<10){\n",
      "exec, a(N,N);\n",
      "N=N+1;\n",
      "}\n",
      "n                  =                  1 ;\n",
      "n*n                =                  1 ;\n",
      "++++++ info: n redefined\n",
      "n                  =                  2 ;\n",
      "n*n                =                  4 ;\n",
      "++++++ info: n redefined\n",
      "n                  =                  3 ;\n",
      "n*n                =                  9 ;\n",
      "++++++ info: n redefined\n",
      "n                  =                  4 ;\n",
      "n*n                =                 16 ;\n",
      "++++++ info: n redefined\n",
      "n                  =                  5 ;\n",
      "n*n                =                 25 ;\n",
      "++++++ info: n redefined\n",
      "n                  =                  6 ;\n",
      "n*n                =                 36 ;\n",
      "++++++ info: n redefined\n",
      "n                  =                  7 ;\n",
      "n*n                =                 49 ;\n",
      "++++++ info: n redefined\n",
      "n                  =                  8 ;\n",
      "n*n                =                 64 ;\n",
      "++++++ info: n redefined\n",
      "n                  =                  9 ;\n",
      "n*n                =                 81 ;\n",
      "++++++ info: n redefined\n"
     ]
    }
   ],
   "source": [
    "myString='''\n",
    "a(myvariable1,myvariable2): macro = {\n",
    "value, myvariable1;\n",
    "value, myvariable1*myvariable2;\n",
    "}\n",
    "\n",
    "N=1;\n",
    "while (N<10){\n",
    "exec, a(N,N);\n",
    "N=N+1;\n",
    "}\n",
    "'''\n",
    "myMad.input(myString);"
   ]
  },
  {
   "cell_type": "markdown",
   "metadata": {},
   "source": [
    "---\n",
    "### List of functions\n",
    "In MAD-X the following functions are available\n",
    "\n",
    "- SQRT(x) square root,\n",
    "- LOG(x) natural logarithm,\n",
    "- LOG10(x) logarithm base 10,\n",
    "- EXP(x) exponential,\n",
    "- SIN(x) trigonometric sine,\n",
    "- COS(x) trigonometric cosine,\n",
    "- TAN(x) trigonometric tangent,\n",
    "- ASIN(x) arc sine,\n",
    "- ACOS(x) arc cosine,\n",
    "- ATAN(x) arc tangent,\n",
    "- SINH(x) hyperbolic sine,\n",
    "- COSH(x) hyperbolic cosine,\n",
    "- TANH(x) hyperbolic tangent,\n",
    "- SINC(x) cardinal sine function,\n",
    "- ABS(x) absolute value,\n",
    "- ERF(x) Gauss error,\n",
    "- ERFC(x) complementary error,\n",
    "- FLOOR(x) floor, largest previous integer,\n",
    "- CEIL(x) ceiling, smallest next integer,\n",
    "- ROUND(x) round, closest integer,\n",
    "- FRAC(x) fractional part of number,\n",
    "- RANF() random number, uniformly distributed in [0,1],\n",
    "- GAUSS() random number, gaussian distribution with unit standard deviation,\n",
    "- TGAUSS(x) random number, gaussian distribution with unit standard deviation, truncated at x standard deviations;"
   ]
  },
  {
   "cell_type": "code",
   "execution_count": 17,
   "metadata": {},
   "outputs": [
    {
     "name": "stdout",
     "output_type": "stream",
     "text": [
      "value, 1+1.2;\n",
      "1+1.2              =                2.2 ;\n",
      "value, 1-1.2;\n",
      "1-1.2              =               -0.2 ;\n",
      "value, 1*1.2;\n",
      "1*1.2              =                1.2 ;\n",
      "value, 1/1.2;\n",
      "1/1.2              =       0.8333333333 ;\n",
      "value, 2^0.5;\n",
      "2^0.5              =        1.414213562 ;\n",
      "value, 1/0;\n",
      "++++++ warning: division by zero, result set to zero, expr: 1/0\n",
      "1/0                =                  0 ;\n",
      "value, 2^-0.5;\n",
      "++++++ warning: invalid expression: 2^-0.5\n",
      "value, sqrt(3);\n",
      "sqrt(3)            =        1.732050808 ;\n",
      "value, log(10);\n",
      "log(10)            =        2.302585093 ;\n",
      "value, log10(10^2);\n",
      "log10(10^2)        =                  2 ;\n",
      "value, exp(0);\n",
      "exp(0)             =                  1 ;\n",
      "value, sin(pi/2);\n",
      "sin(pi/2)          =                  1 ;\n",
      "value, cos(sqrt(2)/2);\n",
      "cos(sqrt(2)/2)     =       0.7602445971 ;\n",
      "value, tan(pi/2);\n",
      "tan(pi/2)          =    1.633123935e+16 ;\n",
      "value, asin(0);\n",
      "asin(0)            =                  0 ;\n",
      "value, acos(0);\n",
      "acos(0)            =        1.570796327 ;\n",
      "value, atan(0);\n",
      "atan(0)            =                  0 ;\n",
      "value, sinh(pi/2);\n",
      "sinh(pi/2)         =        2.301298902 ;\n",
      "value, cosh(sqrt(2)/2);\n",
      "cosh(sqrt(2)/2)    =        1.260591837 ;\n",
      "value, tanh(pi/2);\n",
      "tanh(pi/2)         =       0.9171523357 ;\n",
      "value, sinc(0);\n",
      "sinc(0)            =                  1 ;\n",
      "value, abs(-1.2);\n",
      "abs(0-1.2)         =                1.2 ;\n",
      "value, erf(1);\n",
      "erf(1)             =       0.8427007929 ;\n",
      "value, 1-erfc(1);\n",
      "1-erfc(1)          =       0.8427007929 ;\n",
      "value, ceil(2.3);\n",
      "ceil(2.3)          =                  3 ;\n",
      "value, round(2.3);\n",
      "round(2.3)         =                  2 ;\n",
      "value, frac(2.3);\n",
      "frac(2.3)          =                0.3 ;\n",
      "value, ranf();\n",
      "ranf(0)            =        0.549630919 ;\n",
      "value, gauss();\n",
      "gauss(0)           =        1.974795476 ;\n",
      "value, tgauss(.1);\n",
      "tgauss(.1)         =      0.03820673789 ;\n"
     ]
    }
   ],
   "source": [
    "myString='''\n",
    "value, 1+1.2;\n",
    "value, 1-1.2;\n",
    "value, 1*1.2;\n",
    "value, 1/1.2;\n",
    "value, 2^0.5;\n",
    "value, 1/0;\n",
    "value, 2^-0.5;\n",
    "value, sqrt(3);\n",
    "value, log(10);\n",
    "value, log10(10^2);\n",
    "value, exp(0);\n",
    "value, sin(pi/2);\n",
    "value, cos(sqrt(2)/2);\n",
    "value, tan(pi/2);\n",
    "value, asin(0);\n",
    "value, acos(0);\n",
    "value, atan(0);\n",
    "value, sinh(pi/2);\n",
    "value, cosh(sqrt(2)/2);\n",
    "value, tanh(pi/2);\n",
    "value, sinc(0);\n",
    "value, abs(-1.2);\n",
    "value, erf(1);\n",
    "value, 1-erfc(1);\n",
    "value, ceil(2.3);\n",
    "value, round(2.3);\n",
    "value, frac(2.3);\n",
    "value, ranf();\n",
    "value, gauss();\n",
    "value, tgauss(.1);\n",
    "'''\n",
    "myMad.input(myString)"
   ]
  },
  {
   "cell_type": "markdown",
   "metadata": {},
   "source": [
    "---\n",
    "### List of physical constant\n",
    "\n",
    "| MAD-X name  | symbol  |  value |unit|\n",
    "|:-:|:-:|:-:|:-:|\n",
    "|PI| π |4 * atan(1)| 1|\n",
    "|TWOPI|2π| 2 * PI| 1|\n",
    "|DEGRAD| 180/π |180 / PI| deg/rad|\n",
    "|RADDEG| π/180 |PI / 180 |rad/deg|\n",
    "|E| e |exp(1) |1|\n",
    "|EMASS| me |0.510998928e−3| GeV|\n",
    "|PMASS| mp |0.938272046| GeV|\n",
    "|NMASS| u |0.931494061| GeV|\n",
    "|MUMASS| mµ| 0.1056583715 |GeV|\n",
    "|CLIGHT| c| 299792458| m/s|\n",
    "|QELECT| e| 1.602176565e−19| A.s|\n",
    "|HBAR| ¯h| 6.58211928e−25| MeV.s|\n",
    "|ERAD| re| 2.8179403267e−15| m|\n",
    "|PRAD| re(me/mp)| ERAD*EMASS/PMASS| m|\n"
   ]
  },
  {
   "cell_type": "code",
   "execution_count": 18,
   "metadata": {},
   "outputs": [
    {
     "name": "stdout",
     "output_type": "stream",
     "text": [
      "value, pi;\n",
      "pi                 =        3.141592654 ;\n",
      "value, twopi;\n",
      "twopi              =        6.283185307 ;\n",
      "value, raddeg;\n",
      "raddeg             =      0.01745329252 ;\n",
      "value, degrad;\n",
      "degrad             =        57.29577951 ;\n",
      "value, e;\n",
      "e                  =        2.718281828 ;\n",
      "value, emass;\n",
      "emass              =     0.000510998928 ;\n",
      "value, pmass;\n",
      "pmass              =        0.938272046 ;\n",
      "value, nmass;\n",
      "nmass              =        0.931494061 ;\n",
      "value, mumass;\n",
      "mumass             =       0.1056583715 ;\n",
      "value, clight;\n",
      "clight             =          299792458 ;\n",
      "value, qelect;\n",
      "qelect             =    1.602176565e-19 ;\n",
      "value, hbar;\n",
      "hbar               =     6.58211928e-25 ;\n",
      "value, erad;\n",
      "erad               =    2.817940327e-15 ;\n",
      "value, prad;\n",
      "prad               =     1.53469827e-18 ;\n"
     ]
    }
   ],
   "source": [
    "myString='''\n",
    "value, pi;\n",
    "value, twopi;\n",
    "value, raddeg;\n",
    "value, degrad;\n",
    "value, e;\n",
    "value, emass;\n",
    "value, pmass;\n",
    "value, nmass;\n",
    "value, mumass;\n",
    "value, clight;\n",
    "value, qelect;\n",
    "value, hbar;\n",
    "value, erad;\n",
    "value, prad;\n",
    "'''\n",
    "myMad.input(myString)"
   ]
  },
  {
   "cell_type": "markdown",
   "metadata": {},
   "source": [
    "---\n",
    "### Inheritance and *->* operator"
   ]
  },
  {
   "cell_type": "code",
   "execution_count": 19,
   "metadata": {},
   "outputs": [
    {
     "name": "stdout",
     "output_type": "stream",
     "text": [
      "a: drift, l=2;\n",
      "b: a;\n",
      "a->l=3;\n",
      "value, a->l;\n",
      "a->l               =                  3 ;\n",
      "value, b->l;\n",
      "b->l               =                  2 ;\n"
     ]
    }
   ],
   "source": [
    "myString='''\n",
    "a: drift, l=2;\n",
    "b: a;\n",
    "a->l=3;\n",
    "value, a->l;\n",
    "value, b->l;\n",
    "'''\n",
    "myMad.input(myString)"
   ]
  },
  {
   "cell_type": "markdown",
   "metadata": {},
   "source": [
    "## Second part"
   ]
  },
  {
   "cell_type": "code",
   "execution_count": 20,
   "metadata": {},
   "outputs": [
    {
     "name": "stdout",
     "output_type": "stream",
     "text": [
      "  ++++++++++++++++++++++++++++++++++++++++++++\n",
      "  +     MAD-X 5.02.13  (64 bit, Darwin)      +\n",
      "  + Support: mad@cern.ch, http://cern.ch/mad +\n",
      "  + Release   date: 2016.12.20               +\n",
      "  + Execution date: 2019.01.21 21:19:58      +\n",
      "  ++++++++++++++++++++++++++++++++++++++++++++\n",
      "\n",
      "\n"
     ]
    }
   ],
   "source": [
    "madExecutable = '/usr/local/bin/madx'\n",
    "# It is better to restart MAD-X\n",
    "myMad = madx.MadX(madExecutable)"
   ]
  },
  {
   "cell_type": "code",
   "execution_count": 22,
   "metadata": {},
   "outputs": [
    {
     "name": "stdout",
     "output_type": "stream",
     "text": [
      "! *********************************************************************\n",
      "! Second part\n",
      "! *********************************************************************\n",
      "! *********************************************************************\n",
      "! Definition of parameters\n",
      "! *********************************************************************\n",
      "l_cell=100;\n",
      "++++++ info: l_cell redefined\n",
      "quadrupoleLenght=5;\n",
      "++++++ info: quadrupolelenght redefined\n",
      "f=200;\n",
      "++++++ info: f redefined\n",
      "myK:=1/f/quadrupoleLenght;// m^-2\n",
      "++++++ info: myk redefined\n",
      "! *********************************************************************\n",
      "! Definition of magnet\n",
      "! ********************************************************************* \n",
      "QF: quadrupole, L=quadrupoleLenght, K1:=myK;\n",
      "++++++ info: element redefined: qf\n",
      "QD: quadrupole, L=quadrupoleLenght, K1:=-myK;\n",
      "++++++ info: element redefined: qd\n",
      "! *********************************************************************\n",
      "! Definition of sequence\n",
      "! *********************************************************************\n",
      "myCell:sequence, refer=entry, L=L_CELL;\n",
      "quadrupole1: QF, at=0;\n",
      "++++++ warning: implicit element re-definition ignored: quadrupole1\n",
      "marker1: marker, at=25;\n",
      "++++++ warning: implicit element re-definition ignored: marker1\n",
      "quadrupole2: QD, at=50;\n",
      "++++++ warning: implicit element re-definition ignored: quadrupole2\n",
      "endsequence;\n",
      "! *********************************************************************\n",
      "! Definition of beam\n",
      "! *********************************************************************\n",
      "beam, particle=proton, energy=2;\n",
      "! *********************************************************************\n",
      "! Use of the sequence\n",
      "! *********************************************************************\n",
      "use, sequence=myCell;\n",
      "! *********************************************************************\n",
      "! TWISS\n",
      "! *********************************************************************\n",
      "title, 'My first twiss';\n",
      "twiss, file=./secondpart/firstTwiss.txt;\n",
      "enter Twiss module\n",
      "  \n",
      "iteration:   1 error:   0.000000E+00 deltap:   0.000000E+00\n",
      "orbit:   0.000000E+00  0.000000E+00  0.000000E+00  0.000000E+00  0.000000E+00  0.000000E+00\n",
      "++++++ table: summ\n",
      "            length             orbit5               alfa            gammatr \n",
      "               100                 -0                  0                  0 \n",
      "                q1                dq1            betxmax              dxmax \n",
      "     0.03853349451      -0.0438471879        463.6232883                  0 \n",
      "             dxrms             xcomax             xcorms                 q2 \n",
      "                 0                  0                  0      0.03853349451 \n",
      "               dq2            betymax              dymax              dyrms \n",
      "     -0.0438471879        463.6232883                  0                  0 \n",
      "            ycomax             ycorms             deltap            synch_1 \n",
      "                 0                  0                  0                  0 \n",
      "           synch_2            synch_3            synch_4            synch_5 \n",
      "                 0                  0                  0                  0 \n",
      "            nflips \n",
      "                 0 \n"
     ]
    }
   ],
   "source": [
    "myString='''\n",
    "! *********************************************************************\n",
    "! Second part\n",
    "! *********************************************************************\n",
    "\n",
    "! *********************************************************************\n",
    "! Definition of parameters\n",
    "! *********************************************************************\n",
    "\n",
    "l_cell=100;\n",
    "quadrupoleLenght=5;\n",
    "f=200;\n",
    "myK:=1/f/quadrupoleLenght;// m^-2\n",
    "\n",
    "! *********************************************************************\n",
    "! Definition of magnet\n",
    "! ********************************************************************* \n",
    "QF: quadrupole, L=quadrupoleLenght, K1:=myK;\n",
    "QD: quadrupole, L=quadrupoleLenght, K1:=-myK;\n",
    "\n",
    "\n",
    "! *********************************************************************\n",
    "! Definition of sequence\n",
    "! *********************************************************************\n",
    "myCell:sequence, refer=entry, L=L_CELL;\n",
    "quadrupole1: QF, at=0;\n",
    "marker1: marker, at=25;\n",
    "quadrupole2: QD, at=50;\n",
    "endsequence;\n",
    "\n",
    "! *********************************************************************\n",
    "! Definition of beam\n",
    "! *********************************************************************\n",
    "beam, particle=proton, energy=2;\n",
    "\n",
    "! *********************************************************************\n",
    "! Use of the sequence\n",
    "! *********************************************************************\n",
    "use, sequence=myCell;\n",
    "\n",
    "! *********************************************************************\n",
    "! TWISS\n",
    "! *********************************************************************\n",
    "title, 'My first twiss';\n",
    "twiss, file=./secondpart/firstTwiss.txt;\n",
    "'''\n",
    "myMad.input(myString);"
   ]
  },
  {
   "cell_type": "markdown",
   "metadata": {},
   "source": [
    "### Accessing the SUMM and TWISS table"
   ]
  },
  {
   "cell_type": "code",
   "execution_count": 23,
   "metadata": {},
   "outputs": [
    {
     "name": "stdout",
     "output_type": "stream",
     "text": [
      "value, table(SUMM,Q1);\n",
      "table( summ q1 )   =      0.03853349451 ;\n",
      "value, table(SUMM,betymax);\n",
      "table( summ betymax ) =        463.6232883 ;\n"
     ]
    }
   ],
   "source": [
    "myString='''\n",
    "value, table(SUMM,Q1);\n",
    "value, table(SUMM,betymax);\n",
    "'''\n",
    "myMad.input(myString);"
   ]
  },
  {
   "cell_type": "code",
   "execution_count": 24,
   "metadata": {},
   "outputs": [
    {
     "name": "stdout",
     "output_type": "stream",
     "text": [
      "value, table(TWISS,QUADRUPOLE2,S);\n",
      "table( twiss quadrupole2 s ) =                 55 ;\n",
      "value, table(TWISS,QUADRUPOLE2,BETX);\n",
      "table( twiss quadrupole2 betx ) =        369.7791616 ;\n"
     ]
    }
   ],
   "source": [
    "myString='''\n",
    "value, table(TWISS,QUADRUPOLE2,S);\n",
    "value, table(TWISS,QUADRUPOLE2,BETX);\n",
    "'''\n",
    "myMad.input(myString);"
   ]
  },
  {
   "cell_type": "markdown",
   "metadata": {},
   "source": [
    "### Loading a TFS file in a pandas dataframe\n",
    "This approach is much more convenient.\n",
    "Pandas dataframe are very convenient, have a look in https://pandas.pydata.org/Pandas_Cheat_Sheet.pdf."
   ]
  },
  {
   "cell_type": "code",
   "execution_count": 25,
   "metadata": {},
   "outputs": [
    {
     "data": {
      "text/html": [
       "<div>\n",
       "<style scoped>\n",
       "    .dataframe tbody tr th:only-of-type {\n",
       "        vertical-align: middle;\n",
       "    }\n",
       "\n",
       "    .dataframe tbody tr th {\n",
       "        vertical-align: top;\n",
       "    }\n",
       "\n",
       "    .dataframe thead th {\n",
       "        text-align: right;\n",
       "    }\n",
       "</style>\n",
       "<table border=\"1\" class=\"dataframe\">\n",
       "  <thead>\n",
       "    <tr style=\"text-align: right;\">\n",
       "      <th></th>\n",
       "      <th>NAME</th>\n",
       "      <th>TYPE</th>\n",
       "      <th>SEQUENCE</th>\n",
       "      <th>PARTICLE</th>\n",
       "      <th>MASS</th>\n",
       "      <th>CHARGE</th>\n",
       "      <th>ENERGY</th>\n",
       "      <th>PC</th>\n",
       "      <th>GAMMA</th>\n",
       "      <th>KBUNCH</th>\n",
       "      <th>...</th>\n",
       "      <th>SYNCH_1</th>\n",
       "      <th>SYNCH_2</th>\n",
       "      <th>SYNCH_3</th>\n",
       "      <th>SYNCH_4</th>\n",
       "      <th>SYNCH_5</th>\n",
       "      <th>TITLE</th>\n",
       "      <th>ORIGIN</th>\n",
       "      <th>DATE</th>\n",
       "      <th>TIME</th>\n",
       "      <th>TABLE</th>\n",
       "    </tr>\n",
       "    <tr>\n",
       "      <th></th>\n",
       "      <th></th>\n",
       "      <th></th>\n",
       "      <th></th>\n",
       "      <th></th>\n",
       "      <th></th>\n",
       "      <th></th>\n",
       "      <th></th>\n",
       "      <th></th>\n",
       "      <th></th>\n",
       "      <th></th>\n",
       "      <th></th>\n",
       "      <th></th>\n",
       "      <th></th>\n",
       "      <th></th>\n",
       "      <th></th>\n",
       "      <th></th>\n",
       "      <th></th>\n",
       "      <th></th>\n",
       "      <th></th>\n",
       "      <th></th>\n",
       "      <th></th>\n",
       "    </tr>\n",
       "  </thead>\n",
       "  <tbody>\n",
       "    <tr>\n",
       "      <th>./secondpart/firstTwiss.txt</th>\n",
       "      <td>TWISS</td>\n",
       "      <td>TWISS</td>\n",
       "      <td>MYCELL</td>\n",
       "      <td>PROTON</td>\n",
       "      <td>0.938272</td>\n",
       "      <td>1.0</td>\n",
       "      <td>2.0</td>\n",
       "      <td>1.766252</td>\n",
       "      <td>2.131578</td>\n",
       "      <td>1.0</td>\n",
       "      <td>...</td>\n",
       "      <td>0.0</td>\n",
       "      <td>0.0</td>\n",
       "      <td>0.0</td>\n",
       "      <td>0.0</td>\n",
       "      <td>0.0</td>\n",
       "      <td>My first twiss</td>\n",
       "      <td>5.02.13 Darwin 64</td>\n",
       "      <td>21/01/19</td>\n",
       "      <td>21.20.15</td>\n",
       "      <td>NAME     KEYWORD      S        BETX...</td>\n",
       "    </tr>\n",
       "  </tbody>\n",
       "</table>\n",
       "<p>1 rows × 46 columns</p>\n",
       "</div>"
      ],
      "text/plain": [
       "                              NAME   TYPE SEQUENCE PARTICLE      MASS  CHARGE  \\\n",
       "                                                                                \n",
       "./secondpart/firstTwiss.txt  TWISS  TWISS   MYCELL   PROTON  0.938272     1.0   \n",
       "\n",
       "                             ENERGY        PC     GAMMA  KBUNCH  \\\n",
       "                                                                  \n",
       "./secondpart/firstTwiss.txt     2.0  1.766252  2.131578     1.0   \n",
       "\n",
       "                                                   ...                          \\\n",
       "                                                   ...                           \n",
       "./secondpart/firstTwiss.txt                        ...                           \n",
       "\n",
       "                             SYNCH_1  SYNCH_2  SYNCH_3  SYNCH_4  SYNCH_5  \\\n",
       "                                                                           \n",
       "./secondpart/firstTwiss.txt      0.0      0.0      0.0      0.0      0.0   \n",
       "\n",
       "                                      TITLE             ORIGIN      DATE  \\\n",
       "                                                                           \n",
       "./secondpart/firstTwiss.txt  My first twiss  5.02.13 Darwin 64  21/01/19   \n",
       "\n",
       "                                 TIME  \\\n",
       "                                        \n",
       "./secondpart/firstTwiss.txt  21.20.15   \n",
       "\n",
       "                                                                         TABLE  \n",
       "                                                                                \n",
       "./secondpart/firstTwiss.txt             NAME     KEYWORD      S        BETX...  \n",
       "\n",
       "[1 rows x 46 columns]"
      ]
     },
     "execution_count": 25,
     "metadata": {},
     "output_type": "execute_result"
    }
   ],
   "source": [
    "myDF=madx.tfs2pd('./secondpart/firstTwiss.txt')\n",
    "myDF"
   ]
  },
  {
   "cell_type": "code",
   "execution_count": 26,
   "metadata": {},
   "outputs": [
    {
     "data": {
      "text/html": [
       "<div>\n",
       "<style scoped>\n",
       "    .dataframe tbody tr th:only-of-type {\n",
       "        vertical-align: middle;\n",
       "    }\n",
       "\n",
       "    .dataframe tbody tr th {\n",
       "        vertical-align: top;\n",
       "    }\n",
       "\n",
       "    .dataframe thead th {\n",
       "        text-align: right;\n",
       "    }\n",
       "</style>\n",
       "<table border=\"1\" class=\"dataframe\">\n",
       "  <thead>\n",
       "    <tr style=\"text-align: right;\">\n",
       "      <th></th>\n",
       "      <th>NAME</th>\n",
       "      <th>KEYWORD</th>\n",
       "      <th>S</th>\n",
       "      <th>BETX</th>\n",
       "      <th>ALFX</th>\n",
       "      <th>MUX</th>\n",
       "      <th>BETY</th>\n",
       "      <th>ALFY</th>\n",
       "      <th>MUY</th>\n",
       "      <th>X</th>\n",
       "      <th>...</th>\n",
       "      <th>SIG54</th>\n",
       "      <th>SIG55</th>\n",
       "      <th>SIG56</th>\n",
       "      <th>SIG61</th>\n",
       "      <th>SIG62</th>\n",
       "      <th>SIG63</th>\n",
       "      <th>SIG64</th>\n",
       "      <th>SIG65</th>\n",
       "      <th>SIG66</th>\n",
       "      <th>N1</th>\n",
       "    </tr>\n",
       "  </thead>\n",
       "  <tbody>\n",
       "    <tr>\n",
       "      <th>0</th>\n",
       "      <td>MYCELL$START</td>\n",
       "      <td>MARKER</td>\n",
       "      <td>0.0</td>\n",
       "      <td>463.623288</td>\n",
       "      <td>-1.156109</td>\n",
       "      <td>0.000000</td>\n",
       "      <td>369.779162</td>\n",
       "      <td>0.929316</td>\n",
       "      <td>0.000000</td>\n",
       "      <td>0.0</td>\n",
       "      <td>...</td>\n",
       "      <td>0.0</td>\n",
       "      <td>0.0</td>\n",
       "      <td>0.0</td>\n",
       "      <td>0.0</td>\n",
       "      <td>0.0</td>\n",
       "      <td>0.0</td>\n",
       "      <td>0.0</td>\n",
       "      <td>0.0</td>\n",
       "      <td>0.0</td>\n",
       "      <td>0.0</td>\n",
       "    </tr>\n",
       "    <tr>\n",
       "      <th>1</th>\n",
       "      <td>QUADRUPOLE1</td>\n",
       "      <td>QUADRUPOLE</td>\n",
       "      <td>5.0</td>\n",
       "      <td>463.623288</td>\n",
       "      <td>1.156109</td>\n",
       "      <td>0.001709</td>\n",
       "      <td>369.779162</td>\n",
       "      <td>-0.929316</td>\n",
       "      <td>0.002161</td>\n",
       "      <td>0.0</td>\n",
       "      <td>...</td>\n",
       "      <td>0.0</td>\n",
       "      <td>0.0</td>\n",
       "      <td>0.0</td>\n",
       "      <td>0.0</td>\n",
       "      <td>0.0</td>\n",
       "      <td>0.0</td>\n",
       "      <td>0.0</td>\n",
       "      <td>0.0</td>\n",
       "      <td>0.0</td>\n",
       "      <td>0.0</td>\n",
       "    </tr>\n",
       "    <tr>\n",
       "      <th>2</th>\n",
       "      <td>DRIFT_0</td>\n",
       "      <td>DRIFT</td>\n",
       "      <td>25.0</td>\n",
       "      <td>419.394867</td>\n",
       "      <td>1.055312</td>\n",
       "      <td>0.008930</td>\n",
       "      <td>408.967742</td>\n",
       "      <td>-1.030113</td>\n",
       "      <td>0.010350</td>\n",
       "      <td>0.0</td>\n",
       "      <td>...</td>\n",
       "      <td>0.0</td>\n",
       "      <td>0.0</td>\n",
       "      <td>0.0</td>\n",
       "      <td>0.0</td>\n",
       "      <td>0.0</td>\n",
       "      <td>0.0</td>\n",
       "      <td>0.0</td>\n",
       "      <td>0.0</td>\n",
       "      <td>0.0</td>\n",
       "      <td>0.0</td>\n",
       "    </tr>\n",
       "    <tr>\n",
       "      <th>3</th>\n",
       "      <td>MARKER1</td>\n",
       "      <td>MARKER</td>\n",
       "      <td>25.0</td>\n",
       "      <td>419.394867</td>\n",
       "      <td>1.055312</td>\n",
       "      <td>0.008930</td>\n",
       "      <td>408.967742</td>\n",
       "      <td>-1.030113</td>\n",
       "      <td>0.010350</td>\n",
       "      <td>0.0</td>\n",
       "      <td>...</td>\n",
       "      <td>0.0</td>\n",
       "      <td>0.0</td>\n",
       "      <td>0.0</td>\n",
       "      <td>0.0</td>\n",
       "      <td>0.0</td>\n",
       "      <td>0.0</td>\n",
       "      <td>0.0</td>\n",
       "      <td>0.0</td>\n",
       "      <td>0.0</td>\n",
       "      <td>0.0</td>\n",
       "    </tr>\n",
       "    <tr>\n",
       "      <th>4</th>\n",
       "      <td>DRIFT_1</td>\n",
       "      <td>DRIFT</td>\n",
       "      <td>50.0</td>\n",
       "      <td>369.779162</td>\n",
       "      <td>0.929316</td>\n",
       "      <td>0.019041</td>\n",
       "      <td>463.623288</td>\n",
       "      <td>-1.156109</td>\n",
       "      <td>0.019493</td>\n",
       "      <td>0.0</td>\n",
       "      <td>...</td>\n",
       "      <td>0.0</td>\n",
       "      <td>0.0</td>\n",
       "      <td>0.0</td>\n",
       "      <td>0.0</td>\n",
       "      <td>0.0</td>\n",
       "      <td>0.0</td>\n",
       "      <td>0.0</td>\n",
       "      <td>0.0</td>\n",
       "      <td>0.0</td>\n",
       "      <td>0.0</td>\n",
       "    </tr>\n",
       "    <tr>\n",
       "      <th>5</th>\n",
       "      <td>QUADRUPOLE2</td>\n",
       "      <td>QUADRUPOLE</td>\n",
       "      <td>55.0</td>\n",
       "      <td>369.779162</td>\n",
       "      <td>-0.929316</td>\n",
       "      <td>0.021202</td>\n",
       "      <td>463.623288</td>\n",
       "      <td>1.156109</td>\n",
       "      <td>0.021202</td>\n",
       "      <td>0.0</td>\n",
       "      <td>...</td>\n",
       "      <td>0.0</td>\n",
       "      <td>0.0</td>\n",
       "      <td>0.0</td>\n",
       "      <td>0.0</td>\n",
       "      <td>0.0</td>\n",
       "      <td>0.0</td>\n",
       "      <td>0.0</td>\n",
       "      <td>0.0</td>\n",
       "      <td>0.0</td>\n",
       "      <td>0.0</td>\n",
       "    </tr>\n",
       "    <tr>\n",
       "      <th>6</th>\n",
       "      <td>DRIFT_2</td>\n",
       "      <td>DRIFT</td>\n",
       "      <td>100.0</td>\n",
       "      <td>463.623288</td>\n",
       "      <td>-1.156109</td>\n",
       "      <td>0.038533</td>\n",
       "      <td>369.779162</td>\n",
       "      <td>0.929316</td>\n",
       "      <td>0.038533</td>\n",
       "      <td>0.0</td>\n",
       "      <td>...</td>\n",
       "      <td>0.0</td>\n",
       "      <td>0.0</td>\n",
       "      <td>0.0</td>\n",
       "      <td>0.0</td>\n",
       "      <td>0.0</td>\n",
       "      <td>0.0</td>\n",
       "      <td>0.0</td>\n",
       "      <td>0.0</td>\n",
       "      <td>0.0</td>\n",
       "      <td>0.0</td>\n",
       "    </tr>\n",
       "    <tr>\n",
       "      <th>7</th>\n",
       "      <td>MYCELL$END</td>\n",
       "      <td>MARKER</td>\n",
       "      <td>100.0</td>\n",
       "      <td>463.623288</td>\n",
       "      <td>-1.156109</td>\n",
       "      <td>0.038533</td>\n",
       "      <td>369.779162</td>\n",
       "      <td>0.929316</td>\n",
       "      <td>0.038533</td>\n",
       "      <td>0.0</td>\n",
       "      <td>...</td>\n",
       "      <td>0.0</td>\n",
       "      <td>0.0</td>\n",
       "      <td>0.0</td>\n",
       "      <td>0.0</td>\n",
       "      <td>0.0</td>\n",
       "      <td>0.0</td>\n",
       "      <td>0.0</td>\n",
       "      <td>0.0</td>\n",
       "      <td>0.0</td>\n",
       "      <td>0.0</td>\n",
       "    </tr>\n",
       "  </tbody>\n",
       "</table>\n",
       "<p>8 rows × 250 columns</p>\n",
       "</div>"
      ],
      "text/plain": [
       "           NAME     KEYWORD      S        BETX      ALFX       MUX  \\\n",
       "0  MYCELL$START      MARKER    0.0  463.623288 -1.156109  0.000000   \n",
       "1   QUADRUPOLE1  QUADRUPOLE    5.0  463.623288  1.156109  0.001709   \n",
       "2       DRIFT_0       DRIFT   25.0  419.394867  1.055312  0.008930   \n",
       "3       MARKER1      MARKER   25.0  419.394867  1.055312  0.008930   \n",
       "4       DRIFT_1       DRIFT   50.0  369.779162  0.929316  0.019041   \n",
       "5   QUADRUPOLE2  QUADRUPOLE   55.0  369.779162 -0.929316  0.021202   \n",
       "6       DRIFT_2       DRIFT  100.0  463.623288 -1.156109  0.038533   \n",
       "7    MYCELL$END      MARKER  100.0  463.623288 -1.156109  0.038533   \n",
       "\n",
       "         BETY      ALFY       MUY    X ...   SIG54  SIG55  SIG56  SIG61  \\\n",
       "0  369.779162  0.929316  0.000000  0.0 ...     0.0    0.0    0.0    0.0   \n",
       "1  369.779162 -0.929316  0.002161  0.0 ...     0.0    0.0    0.0    0.0   \n",
       "2  408.967742 -1.030113  0.010350  0.0 ...     0.0    0.0    0.0    0.0   \n",
       "3  408.967742 -1.030113  0.010350  0.0 ...     0.0    0.0    0.0    0.0   \n",
       "4  463.623288 -1.156109  0.019493  0.0 ...     0.0    0.0    0.0    0.0   \n",
       "5  463.623288  1.156109  0.021202  0.0 ...     0.0    0.0    0.0    0.0   \n",
       "6  369.779162  0.929316  0.038533  0.0 ...     0.0    0.0    0.0    0.0   \n",
       "7  369.779162  0.929316  0.038533  0.0 ...     0.0    0.0    0.0    0.0   \n",
       "\n",
       "   SIG62  SIG63  SIG64  SIG65  SIG66   N1  \n",
       "0    0.0    0.0    0.0    0.0    0.0  0.0  \n",
       "1    0.0    0.0    0.0    0.0    0.0  0.0  \n",
       "2    0.0    0.0    0.0    0.0    0.0  0.0  \n",
       "3    0.0    0.0    0.0    0.0    0.0  0.0  \n",
       "4    0.0    0.0    0.0    0.0    0.0  0.0  \n",
       "5    0.0    0.0    0.0    0.0    0.0  0.0  \n",
       "6    0.0    0.0    0.0    0.0    0.0  0.0  \n",
       "7    0.0    0.0    0.0    0.0    0.0  0.0  \n",
       "\n",
       "[8 rows x 250 columns]"
      ]
     },
     "execution_count": 26,
     "metadata": {},
     "output_type": "execute_result"
    }
   ],
   "source": [
    "myDFTable=myDF.iloc[0].TABLE\n",
    "myDFTable"
   ]
  },
  {
   "cell_type": "markdown",
   "metadata": {},
   "source": [
    "By default the twiss table contain a lot of columns."
   ]
  },
  {
   "cell_type": "code",
   "execution_count": 27,
   "metadata": {},
   "outputs": [
    {
     "data": {
      "text/plain": [
       "250"
      ]
     },
     "execution_count": 27,
     "metadata": {},
     "output_type": "execute_result"
    }
   ],
   "source": [
    "len(myDFTable.columns)"
   ]
  },
  {
   "cell_type": "markdown",
   "metadata": {},
   "source": [
    "To reduce the amount of data (sometime is better/needed), one can specify the needed columns in the TWISS table. "
   ]
  },
  {
   "cell_type": "code",
   "execution_count": 28,
   "metadata": {},
   "outputs": [
    {
     "name": "stdout",
     "output_type": "stream",
     "text": [
      "select, flag=twiss, clear;\n",
      "select, flag=twiss, column=name, keyword, s, betx, alfx, mux, bety, alfy, muy, x, px, y, py, dx, dy, dx, dpx, dy, dpy;\n",
      "title, 'My second twiss';\n",
      "twiss, file=./secondpart/secondTwiss.txt;\n",
      "enter Twiss module\n",
      "  \n",
      "iteration:   1 error:   0.000000E+00 deltap:   0.000000E+00\n",
      "orbit:   0.000000E+00  0.000000E+00  0.000000E+00  0.000000E+00  0.000000E+00  0.000000E+00\n",
      "++++++ table: summ\n",
      "            length             orbit5               alfa            gammatr \n",
      "               100                 -0                  0                  0 \n",
      "                q1                dq1            betxmax              dxmax \n",
      "     0.03853349451      -0.0438471879        463.6232883                  0 \n",
      "             dxrms             xcomax             xcorms                 q2 \n",
      "                 0                  0                  0      0.03853349451 \n",
      "               dq2            betymax              dymax              dyrms \n",
      "     -0.0438471879        463.6232883                  0                  0 \n",
      "            ycomax             ycorms             deltap            synch_1 \n",
      "                 0                  0                  0                  0 \n",
      "           synch_2            synch_3            synch_4            synch_5 \n",
      "                 0                  0                  0                  0 \n",
      "            nflips \n",
      "                 0 \n"
     ]
    }
   ],
   "source": [
    "myString='''\n",
    "select, flag=twiss, clear;\n",
    "select, flag=twiss, column=name, keyword, s, betx, alfx, mux, bety, alfy, muy, x, px, y, py, dx, dy, dx, dpx, dy, dpy;\n",
    "\n",
    "title, 'My second twiss';\n",
    "twiss, file=./secondpart/secondTwiss.txt;\n",
    "'''\n",
    "myMad.input(myString);"
   ]
  },
  {
   "cell_type": "code",
   "execution_count": 29,
   "metadata": {},
   "outputs": [
    {
     "data": {
      "text/html": [
       "<div>\n",
       "<style scoped>\n",
       "    .dataframe tbody tr th:only-of-type {\n",
       "        vertical-align: middle;\n",
       "    }\n",
       "\n",
       "    .dataframe tbody tr th {\n",
       "        vertical-align: top;\n",
       "    }\n",
       "\n",
       "    .dataframe thead th {\n",
       "        text-align: right;\n",
       "    }\n",
       "</style>\n",
       "<table border=\"1\" class=\"dataframe\">\n",
       "  <thead>\n",
       "    <tr style=\"text-align: right;\">\n",
       "      <th></th>\n",
       "      <th>NAME</th>\n",
       "      <th>KEYWORD</th>\n",
       "      <th>S</th>\n",
       "      <th>BETX</th>\n",
       "      <th>ALFX</th>\n",
       "      <th>MUX</th>\n",
       "      <th>BETY</th>\n",
       "      <th>ALFY</th>\n",
       "      <th>MUY</th>\n",
       "      <th>X</th>\n",
       "      <th>PX</th>\n",
       "      <th>Y</th>\n",
       "      <th>PY</th>\n",
       "      <th>DX</th>\n",
       "      <th>DY</th>\n",
       "      <th>DPX</th>\n",
       "      <th>DPY</th>\n",
       "    </tr>\n",
       "  </thead>\n",
       "  <tbody>\n",
       "    <tr>\n",
       "      <th>0</th>\n",
       "      <td>MYCELL$START</td>\n",
       "      <td>MARKER</td>\n",
       "      <td>0.0</td>\n",
       "      <td>463.623288</td>\n",
       "      <td>-1.156109</td>\n",
       "      <td>0.000000</td>\n",
       "      <td>369.779162</td>\n",
       "      <td>0.929316</td>\n",
       "      <td>0.000000</td>\n",
       "      <td>0.0</td>\n",
       "      <td>0.0</td>\n",
       "      <td>0.0</td>\n",
       "      <td>0.0</td>\n",
       "      <td>0.0</td>\n",
       "      <td>0.0</td>\n",
       "      <td>0.0</td>\n",
       "      <td>0.0</td>\n",
       "    </tr>\n",
       "    <tr>\n",
       "      <th>1</th>\n",
       "      <td>QUADRUPOLE1</td>\n",
       "      <td>QUADRUPOLE</td>\n",
       "      <td>5.0</td>\n",
       "      <td>463.623288</td>\n",
       "      <td>1.156109</td>\n",
       "      <td>0.001709</td>\n",
       "      <td>369.779162</td>\n",
       "      <td>-0.929316</td>\n",
       "      <td>0.002161</td>\n",
       "      <td>0.0</td>\n",
       "      <td>0.0</td>\n",
       "      <td>0.0</td>\n",
       "      <td>0.0</td>\n",
       "      <td>0.0</td>\n",
       "      <td>0.0</td>\n",
       "      <td>0.0</td>\n",
       "      <td>0.0</td>\n",
       "    </tr>\n",
       "    <tr>\n",
       "      <th>2</th>\n",
       "      <td>DRIFT_0</td>\n",
       "      <td>DRIFT</td>\n",
       "      <td>25.0</td>\n",
       "      <td>419.394867</td>\n",
       "      <td>1.055312</td>\n",
       "      <td>0.008930</td>\n",
       "      <td>408.967742</td>\n",
       "      <td>-1.030113</td>\n",
       "      <td>0.010350</td>\n",
       "      <td>0.0</td>\n",
       "      <td>0.0</td>\n",
       "      <td>0.0</td>\n",
       "      <td>0.0</td>\n",
       "      <td>0.0</td>\n",
       "      <td>0.0</td>\n",
       "      <td>0.0</td>\n",
       "      <td>0.0</td>\n",
       "    </tr>\n",
       "    <tr>\n",
       "      <th>3</th>\n",
       "      <td>MARKER1</td>\n",
       "      <td>MARKER</td>\n",
       "      <td>25.0</td>\n",
       "      <td>419.394867</td>\n",
       "      <td>1.055312</td>\n",
       "      <td>0.008930</td>\n",
       "      <td>408.967742</td>\n",
       "      <td>-1.030113</td>\n",
       "      <td>0.010350</td>\n",
       "      <td>0.0</td>\n",
       "      <td>0.0</td>\n",
       "      <td>0.0</td>\n",
       "      <td>0.0</td>\n",
       "      <td>0.0</td>\n",
       "      <td>0.0</td>\n",
       "      <td>0.0</td>\n",
       "      <td>0.0</td>\n",
       "    </tr>\n",
       "    <tr>\n",
       "      <th>4</th>\n",
       "      <td>DRIFT_1</td>\n",
       "      <td>DRIFT</td>\n",
       "      <td>50.0</td>\n",
       "      <td>369.779162</td>\n",
       "      <td>0.929316</td>\n",
       "      <td>0.019041</td>\n",
       "      <td>463.623288</td>\n",
       "      <td>-1.156109</td>\n",
       "      <td>0.019493</td>\n",
       "      <td>0.0</td>\n",
       "      <td>0.0</td>\n",
       "      <td>0.0</td>\n",
       "      <td>0.0</td>\n",
       "      <td>0.0</td>\n",
       "      <td>0.0</td>\n",
       "      <td>0.0</td>\n",
       "      <td>0.0</td>\n",
       "    </tr>\n",
       "    <tr>\n",
       "      <th>5</th>\n",
       "      <td>QUADRUPOLE2</td>\n",
       "      <td>QUADRUPOLE</td>\n",
       "      <td>55.0</td>\n",
       "      <td>369.779162</td>\n",
       "      <td>-0.929316</td>\n",
       "      <td>0.021202</td>\n",
       "      <td>463.623288</td>\n",
       "      <td>1.156109</td>\n",
       "      <td>0.021202</td>\n",
       "      <td>0.0</td>\n",
       "      <td>0.0</td>\n",
       "      <td>0.0</td>\n",
       "      <td>0.0</td>\n",
       "      <td>0.0</td>\n",
       "      <td>0.0</td>\n",
       "      <td>0.0</td>\n",
       "      <td>0.0</td>\n",
       "    </tr>\n",
       "    <tr>\n",
       "      <th>6</th>\n",
       "      <td>DRIFT_2</td>\n",
       "      <td>DRIFT</td>\n",
       "      <td>100.0</td>\n",
       "      <td>463.623288</td>\n",
       "      <td>-1.156109</td>\n",
       "      <td>0.038533</td>\n",
       "      <td>369.779162</td>\n",
       "      <td>0.929316</td>\n",
       "      <td>0.038533</td>\n",
       "      <td>0.0</td>\n",
       "      <td>0.0</td>\n",
       "      <td>0.0</td>\n",
       "      <td>0.0</td>\n",
       "      <td>0.0</td>\n",
       "      <td>0.0</td>\n",
       "      <td>0.0</td>\n",
       "      <td>0.0</td>\n",
       "    </tr>\n",
       "    <tr>\n",
       "      <th>7</th>\n",
       "      <td>MYCELL$END</td>\n",
       "      <td>MARKER</td>\n",
       "      <td>100.0</td>\n",
       "      <td>463.623288</td>\n",
       "      <td>-1.156109</td>\n",
       "      <td>0.038533</td>\n",
       "      <td>369.779162</td>\n",
       "      <td>0.929316</td>\n",
       "      <td>0.038533</td>\n",
       "      <td>0.0</td>\n",
       "      <td>0.0</td>\n",
       "      <td>0.0</td>\n",
       "      <td>0.0</td>\n",
       "      <td>0.0</td>\n",
       "      <td>0.0</td>\n",
       "      <td>0.0</td>\n",
       "      <td>0.0</td>\n",
       "    </tr>\n",
       "  </tbody>\n",
       "</table>\n",
       "</div>"
      ],
      "text/plain": [
       "           NAME     KEYWORD      S        BETX      ALFX       MUX  \\\n",
       "0  MYCELL$START      MARKER    0.0  463.623288 -1.156109  0.000000   \n",
       "1   QUADRUPOLE1  QUADRUPOLE    5.0  463.623288  1.156109  0.001709   \n",
       "2       DRIFT_0       DRIFT   25.0  419.394867  1.055312  0.008930   \n",
       "3       MARKER1      MARKER   25.0  419.394867  1.055312  0.008930   \n",
       "4       DRIFT_1       DRIFT   50.0  369.779162  0.929316  0.019041   \n",
       "5   QUADRUPOLE2  QUADRUPOLE   55.0  369.779162 -0.929316  0.021202   \n",
       "6       DRIFT_2       DRIFT  100.0  463.623288 -1.156109  0.038533   \n",
       "7    MYCELL$END      MARKER  100.0  463.623288 -1.156109  0.038533   \n",
       "\n",
       "         BETY      ALFY       MUY    X   PX    Y   PY   DX   DY  DPX  DPY  \n",
       "0  369.779162  0.929316  0.000000  0.0  0.0  0.0  0.0  0.0  0.0  0.0  0.0  \n",
       "1  369.779162 -0.929316  0.002161  0.0  0.0  0.0  0.0  0.0  0.0  0.0  0.0  \n",
       "2  408.967742 -1.030113  0.010350  0.0  0.0  0.0  0.0  0.0  0.0  0.0  0.0  \n",
       "3  408.967742 -1.030113  0.010350  0.0  0.0  0.0  0.0  0.0  0.0  0.0  0.0  \n",
       "4  463.623288 -1.156109  0.019493  0.0  0.0  0.0  0.0  0.0  0.0  0.0  0.0  \n",
       "5  463.623288  1.156109  0.021202  0.0  0.0  0.0  0.0  0.0  0.0  0.0  0.0  \n",
       "6  369.779162  0.929316  0.038533  0.0  0.0  0.0  0.0  0.0  0.0  0.0  0.0  \n",
       "7  369.779162  0.929316  0.038533  0.0  0.0  0.0  0.0  0.0  0.0  0.0  0.0  "
      ]
     },
     "execution_count": 29,
     "metadata": {},
     "output_type": "execute_result"
    }
   ],
   "source": [
    "myDF=madx.tfs2pd('./secondpart/secondTwiss.txt')\n",
    "myDF\n",
    "myDFTable=myDF.iloc[0].TABLE\n",
    "myDFTable"
   ]
  },
  {
   "cell_type": "code",
   "execution_count": 30,
   "metadata": {},
   "outputs": [],
   "source": [
    "from matplotlib import pylab as plt\n",
    "import numpy as np"
   ]
  },
  {
   "cell_type": "code",
   "execution_count": 31,
   "metadata": {},
   "outputs": [
    {
     "data": {
      "image/png": "[encoded data removed]",
      "text/plain": [
       "<matplotlib.figure.Figure at 0x107614eb8>"
      ]
     },
     "metadata": {
      "needs_background": "light"
     },
     "output_type": "display_data"
    }
   ],
   "source": [
    "plt.plot(myDFTable['S'],myDFTable['BETX'],'o-b',label='$\\\\beta_x$')\n",
    "plt.plot(myDFTable['S'],myDFTable['BETY'],'s-r',label='$\\\\beta_y$')\n",
    "plt.xlabel('s [m]')\n",
    "plt.ylabel('[m]')\n",
    "plt.legend(loc='best')\n",
    "plt.grid()"
   ]
  },
  {
   "cell_type": "markdown",
   "metadata": {},
   "source": [
    "# Tune from the plot"
   ]
  },
  {
   "cell_type": "markdown",
   "metadata": {},
   "source": [
    "For the phase advance one can consider the definition\n",
    "\n",
    "\\begin{equation}\n",
    "\\mu=\\int\\frac{1}{\\beta(s)}ds.\n",
    "\\end{equation}\n",
    "\n",
    "Remember that the unit of phase in MAD-X is [2$\\pi$]."
   ]
  },
  {
   "cell_type": "code",
   "execution_count": 32,
   "metadata": {},
   "outputs": [
    {
     "data": {
      "text/plain": [
       "0.039788735772973836"
      ]
     },
     "execution_count": 32,
     "metadata": {},
     "output_type": "execute_result"
    }
   ],
   "source": [
    "# a very basic approximation\n",
    "1/400.*100/2/np.pi"
   ]
  },
  {
   "cell_type": "code",
   "execution_count": 33,
   "metadata": {},
   "outputs": [
    {
     "data": {
      "text/plain": [
       "0.038627864620407765"
      ]
     },
     "execution_count": 33,
     "metadata": {},
     "output_type": "execute_result"
    }
   ],
   "source": [
    "# computing the integral\n",
    "np.trapz(1/myDFTable['BETX'],myDFTable['S'])/2/np.pi"
   ]
  },
  {
   "cell_type": "code",
   "execution_count": 34,
   "metadata": {},
   "outputs": [
    {
     "data": {
      "text/plain": [
       "0.03853349451"
      ]
     },
     "execution_count": 34,
     "metadata": {},
     "output_type": "execute_result"
    }
   ],
   "source": [
    "# correct values\n",
    "myDFTable.iloc[-1]['MUX']"
   ]
  },
  {
   "cell_type": "code",
   "execution_count": 35,
   "metadata": {},
   "outputs": [
    {
     "data": {
      "text/plain": [
       "\n",
       "./secondpart/secondTwiss.txt    0.038533\n",
       "Name: Q1, dtype: float64"
      ]
     },
     "execution_count": 35,
     "metadata": {},
     "output_type": "execute_result"
    }
   ],
   "source": [
    "# or\n",
    "myDF['Q1']"
   ]
  },
  {
   "cell_type": "markdown",
   "metadata": {},
   "source": [
    "### Varying the energy"
   ]
  },
  {
   "cell_type": "code",
   "execution_count": 36,
   "metadata": {},
   "outputs": [
    {
     "name": "stdout",
     "output_type": "stream",
     "text": [
      "ERROR WITH THE EXECUTION, PLEASE CHECK IT.\n"
     ]
    }
   ],
   "source": [
    "# with this simple wrapper in case of error the code enter in an infinite loop you have to stop manually.\n",
    "myString='''\n",
    "beam, particle=proton, energy=0.7;\n",
    "title, 'My third twiss';\n",
    "twiss, file=./secondpart/thirdTwiss.txt;\n",
    "'''\n",
    "myMad.input(myString);"
   ]
  },
  {
   "cell_type": "markdown",
   "metadata": {},
   "source": [
    "There is an error due to the fact that the total energy."
   ]
  },
  {
   "cell_type": "code",
   "execution_count": 38,
   "metadata": {},
   "outputs": [
    {
     "data": {
      "text/plain": [
       "[]"
      ]
     },
     "execution_count": 38,
     "metadata": {},
     "output_type": "execute_result"
    }
   ],
   "source": [
    "myMad.p.stderr.readlines()\n",
    "# since the code crashed, you need to re-initialize it before continuing using it."
   ]
  },
  {
   "cell_type": "markdown",
   "metadata": {},
   "source": [
    "### With f=20 m"
   ]
  },
  {
   "cell_type": "code",
   "execution_count": 39,
   "metadata": {},
   "outputs": [
    {
     "name": "stdout",
     "output_type": "stream",
     "text": [
      "  ++++++++++++++++++++++++++++++++++++++++++++\n",
      "  +     MAD-X 5.02.13  (64 bit, Darwin)      +\n",
      "  + Support: mad@cern.ch, http://cern.ch/mad +\n",
      "  + Release   date: 2016.12.20               +\n",
      "  + Execution date: 2019.01.21 21:21:09      +\n",
      "  ++++++++++++++++++++++++++++++++++++++++++++\n",
      "\n",
      "\n"
     ]
    }
   ],
   "source": [
    "madExecutable = '/usr/local/bin/madx'\n",
    "myMad = madx.MadX(madExecutable)"
   ]
  },
  {
   "cell_type": "code",
   "execution_count": 40,
   "metadata": {},
   "outputs": [
    {
     "name": "stdout",
     "output_type": "stream",
     "text": [
      "! *********************************************************************\n",
      "! Tutorial 1, second part\n",
      "! *********************************************************************\n",
      "! *********************************************************************\n",
      "! Definition of parameters\n",
      "! *********************************************************************\n",
      "l_cell=100;\n",
      "quadrupoleLenght=5;\n",
      "f=20;\n",
      "myK:=1/f/quadrupoleLenght;// m^-2\n",
      "! *********************************************************************\n",
      "! Definition of magnet\n",
      "! ********************************************************************* \n",
      "QF: quadrupole, L=quadrupoleLenght, K1:=myK;\n",
      "QD: quadrupole, L=quadrupoleLenght, K1:=-myK;\n",
      "! *********************************************************************\n",
      "! Definition of sequence\n",
      "! *********************************************************************\n",
      "myCell:sequence, refer=entry, L=L_CELL;\n",
      "quadrupole1: QF, at=0;\n",
      "marker1: marker, at=25;\n",
      "quadrupole2: QD, at=50;\n",
      "endsequence;\n",
      "! *********************************************************************\n",
      "! Definition of beam\n",
      "! *********************************************************************\n",
      "beam, particle=proton, energy=2;\n",
      "! *********************************************************************\n",
      "! Use of the sequence\n",
      "! *********************************************************************\n",
      "use, sequence=myCell;\n",
      "! *********************************************************************\n",
      "! TWISS\n",
      "! *********************************************************************\n",
      "select, flag=twiss, clear;\n",
      "select, flag=twiss, column=name, keyword, s, betx, alfx, mux, bety, alfy, muy, x, px, y, py, dx, dy, dx, dpx, dy, dpy;\n",
      "title, 'My fourth twiss';\n",
      "twiss, file=./secondpart/fourthTwiss.txt;\n",
      "enter Twiss module\n",
      "  \n",
      "iteration:   1 error:   0.000000E+00 deltap:   0.000000E+00\n",
      "orbit:   0.000000E+00  0.000000E+00  0.000000E+00  0.000000E+00  0.000000E+00  0.000000E+00\n",
      "++++++ warning: TWCPIN:  Both modes are unstable for delta(p)/p =     0.000000: cosmux =    -1.914796, cosmuy =    -1.914796                                                   \n",
      "++++++ warning: Twiss failed:  MAD-X continues\n"
     ]
    }
   ],
   "source": [
    "myString='''\n",
    "! *********************************************************************\n",
    "! Tutorial 1, second part\n",
    "! *********************************************************************\n",
    "\n",
    "! *********************************************************************\n",
    "! Definition of parameters\n",
    "! *********************************************************************\n",
    "\n",
    "l_cell=100;\n",
    "quadrupoleLenght=5;\n",
    "f=20;\n",
    "myK:=1/f/quadrupoleLenght;// m^-2\n",
    "\n",
    "! *********************************************************************\n",
    "! Definition of magnet\n",
    "! ********************************************************************* \n",
    "QF: quadrupole, L=quadrupoleLenght, K1:=myK;\n",
    "QD: quadrupole, L=quadrupoleLenght, K1:=-myK;\n",
    "\n",
    "\n",
    "! *********************************************************************\n",
    "! Definition of sequence\n",
    "! *********************************************************************\n",
    "myCell:sequence, refer=entry, L=L_CELL;\n",
    "quadrupole1: QF, at=0;\n",
    "marker1: marker, at=25;\n",
    "quadrupole2: QD, at=50;\n",
    "endsequence;\n",
    "\n",
    "! *********************************************************************\n",
    "! Definition of beam\n",
    "! *********************************************************************\n",
    "beam, particle=proton, energy=2;\n",
    "\n",
    "! *********************************************************************\n",
    "! Use of the sequence\n",
    "! *********************************************************************\n",
    "use, sequence=myCell;\n",
    "\n",
    "! *********************************************************************\n",
    "! TWISS\n",
    "! *********************************************************************\n",
    "select, flag=twiss, clear;\n",
    "select, flag=twiss, column=name, keyword, s, betx, alfx, mux, bety, alfy, muy, x, px, y, py, dx, dy, dx, dpx, dy, dpy;\n",
    "\n",
    "title, 'My fourth twiss';\n",
    "twiss, file=./secondpart/fourthTwiss.txt;\n",
    "'''\n",
    "myMad.input(myString);"
   ]
  },
  {
   "cell_type": "markdown",
   "metadata": {},
   "source": [
    "**INTERPRETATION**: The cell is unstable due to the fact that the focal length is too short. Please note the value of the **cosmux** and **cosmuy**. "
   ]
  },
  {
   "cell_type": "markdown",
   "metadata": {},
   "source": [
    "### Adding markers \n",
    "\n",
    "This is an example to add markers in the sequence using a macros."
   ]
  },
  {
   "cell_type": "code",
   "execution_count": 41,
   "metadata": {},
   "outputs": [
    {
     "name": "stdout",
     "output_type": "stream",
     "text": [
      "! *********************************************************************\n",
      "! Tutorial 1, second part\n",
      "! *********************************************************************\n",
      "! *********************************************************************\n",
      "! Definition of parameters\n",
      "! *********************************************************************\n",
      "option, echo=false, info=false, warn=false;\n",
      "\n",
      "\n",
      "\n",
      "enter Twiss module\n",
      "  \n",
      "iteration:   1 error:   0.000000E+00 deltap:   0.000000E+00\n",
      "orbit:   0.000000E+00  0.000000E+00  0.000000E+00  0.000000E+00  0.000000E+00  0.000000E+00\n",
      "++++++ table: summ\n",
      "            length             orbit5               alfa            gammatr \n",
      "               100                 -0   -2.775557562e-16       -60023992.72 \n",
      "                q1                dq1            betxmax              dxmax \n",
      "     0.03853349451      -0.0438471879        463.6232883                  0 \n",
      "             dxrms             xcomax             xcorms                 q2 \n",
      "                 0                  0                  0      0.03853349451 \n",
      "               dq2            betymax              dymax              dyrms \n",
      "     -0.0438471879        463.6232883                  0                  0 \n",
      "            ycomax             ycorms             deltap            synch_1 \n",
      "                 0                  0                  0                  0\n",
      "           synch_2            synch_3            synch_4            synch_5 \n",
      "                 0                  0                  0\n",
      "                 0 \n",
      "            nflips \n",
      "                 0 \n"
     ]
    }
   ],
   "source": [
    "myString='''\n",
    "! *********************************************************************\n",
    "! Tutorial 1, second part\n",
    "! *********************************************************************\n",
    "\n",
    "! *********************************************************************\n",
    "! Definition of parameters\n",
    "! *********************************************************************\n",
    "\n",
    "option, echo=false, info=false, warn=false;\n",
    "l_cell=100;\n",
    "quadrupoleLenght=5;\n",
    "f=200;\n",
    "myK:=1/f/quadrupoleLenght;// m^-2\n",
    "\n",
    "! *********************************************************************\n",
    "! Definition of magnet\n",
    "! ********************************************************************* \n",
    "QF: quadrupole, L=quadrupoleLenght, K1:=myK;\n",
    "QD: quadrupole, L=quadrupoleLenght, K1:=-myK;\n",
    "\n",
    "\n",
    "installMarkers(nn): macro ={\n",
    "markernn: marker, at=nn;\n",
    "!value,f;\n",
    "};\n",
    "N=6;\n",
    "\n",
    "\n",
    "! *********************************************************************\n",
    "! Definition of sequence\n",
    "! *********************************************************************\n",
    "myCell:sequence, REFER=centre, L=L_CELL;\n",
    "quadrupole1: QF, at=2.5;\n",
    "while (N<50) {\n",
    "exec, installMarkers($N);\n",
    "N=N+1;\n",
    "}\n",
    "quadrupole2: QD, at=52.5;\n",
    "N=56;\n",
    "while (N<100) {\n",
    "exec, installMarkers($N);\n",
    "N=N+1;\n",
    "}\n",
    "endsequence;\n",
    "\n",
    "! *********************************************************************\n",
    "! Definition of beam\n",
    "! *********************************************************************\n",
    "beam, particle=proton, energy=2;\n",
    "\n",
    "! *********************************************************************\n",
    "! Use of the sequence\n",
    "! *********************************************************************\n",
    "use, sequence=myCell;\n",
    "\n",
    "! *********************************************************************\n",
    "! TWISS\n",
    "! *********************************************************************\n",
    "select, flag=twiss, clear;\n",
    "select, flag=twiss, column=name, keyword, L, s, betx, alfx, mux, bety, alfy, muy, x, px, y, py, dx, dy, dx, dpx, dy, dpy;\n",
    "\n",
    "title, 'My fourth twiss';\n",
    "twiss, file=./secondpart/fifthTwiss.txt;\n",
    "'''\n",
    "myMad.input(myString);"
   ]
  },
  {
   "cell_type": "code",
   "execution_count": 42,
   "metadata": {},
   "outputs": [
    {
     "data": {
      "text/html": [
       "<div>\n",
       "<style scoped>\n",
       "    .dataframe tbody tr th:only-of-type {\n",
       "        vertical-align: middle;\n",
       "    }\n",
       "\n",
       "    .dataframe tbody tr th {\n",
       "        vertical-align: top;\n",
       "    }\n",
       "\n",
       "    .dataframe thead th {\n",
       "        text-align: right;\n",
       "    }\n",
       "</style>\n",
       "<table border=\"1\" class=\"dataframe\">\n",
       "  <thead>\n",
       "    <tr style=\"text-align: right;\">\n",
       "      <th></th>\n",
       "      <th>NAME</th>\n",
       "      <th>KEYWORD</th>\n",
       "      <th>L</th>\n",
       "      <th>S</th>\n",
       "      <th>BETX</th>\n",
       "      <th>ALFX</th>\n",
       "      <th>MUX</th>\n",
       "      <th>BETY</th>\n",
       "      <th>ALFY</th>\n",
       "      <th>MUY</th>\n",
       "      <th>X</th>\n",
       "      <th>PX</th>\n",
       "      <th>Y</th>\n",
       "      <th>PY</th>\n",
       "      <th>DX</th>\n",
       "      <th>DY</th>\n",
       "      <th>DPX</th>\n",
       "      <th>DPY</th>\n",
       "    </tr>\n",
       "  </thead>\n",
       "  <tbody>\n",
       "    <tr>\n",
       "      <th>0</th>\n",
       "      <td>MYCELL$START</td>\n",
       "      <td>MARKER</td>\n",
       "      <td>0.0</td>\n",
       "      <td>0.0</td>\n",
       "      <td>463.623288</td>\n",
       "      <td>-1.156109</td>\n",
       "      <td>0.000000</td>\n",
       "      <td>369.779162</td>\n",
       "      <td>0.929316</td>\n",
       "      <td>0.000000</td>\n",
       "      <td>0.0</td>\n",
       "      <td>0.0</td>\n",
       "      <td>0.0</td>\n",
       "      <td>0.0</td>\n",
       "      <td>0.0</td>\n",
       "      <td>0.0</td>\n",
       "      <td>0.0</td>\n",
       "      <td>0.0</td>\n",
       "    </tr>\n",
       "    <tr>\n",
       "      <th>1</th>\n",
       "      <td>QUADRUPOLE1</td>\n",
       "      <td>QUADRUPOLE</td>\n",
       "      <td>5.0</td>\n",
       "      <td>5.0</td>\n",
       "      <td>463.623288</td>\n",
       "      <td>1.156109</td>\n",
       "      <td>0.001709</td>\n",
       "      <td>369.779162</td>\n",
       "      <td>-0.929316</td>\n",
       "      <td>0.002161</td>\n",
       "      <td>0.0</td>\n",
       "      <td>0.0</td>\n",
       "      <td>0.0</td>\n",
       "      <td>0.0</td>\n",
       "      <td>0.0</td>\n",
       "      <td>0.0</td>\n",
       "      <td>0.0</td>\n",
       "      <td>0.0</td>\n",
       "    </tr>\n",
       "    <tr>\n",
       "      <th>2</th>\n",
       "      <td>DRIFT_3</td>\n",
       "      <td>DRIFT</td>\n",
       "      <td>1.0</td>\n",
       "      <td>6.0</td>\n",
       "      <td>461.316110</td>\n",
       "      <td>1.151069</td>\n",
       "      <td>0.002053</td>\n",
       "      <td>371.642834</td>\n",
       "      <td>-0.934356</td>\n",
       "      <td>0.002590</td>\n",
       "      <td>0.0</td>\n",
       "      <td>0.0</td>\n",
       "      <td>0.0</td>\n",
       "      <td>0.0</td>\n",
       "      <td>0.0</td>\n",
       "      <td>0.0</td>\n",
       "      <td>0.0</td>\n",
       "      <td>0.0</td>\n",
       "    </tr>\n",
       "    <tr>\n",
       "      <th>3</th>\n",
       "      <td>MARKER6</td>\n",
       "      <td>MARKER</td>\n",
       "      <td>0.0</td>\n",
       "      <td>6.0</td>\n",
       "      <td>461.316110</td>\n",
       "      <td>1.151069</td>\n",
       "      <td>0.002053</td>\n",
       "      <td>371.642834</td>\n",
       "      <td>-0.934356</td>\n",
       "      <td>0.002590</td>\n",
       "      <td>0.0</td>\n",
       "      <td>0.0</td>\n",
       "      <td>0.0</td>\n",
       "      <td>0.0</td>\n",
       "      <td>0.0</td>\n",
       "      <td>0.0</td>\n",
       "      <td>0.0</td>\n",
       "      <td>0.0</td>\n",
       "    </tr>\n",
       "    <tr>\n",
       "      <th>4</th>\n",
       "      <td>DRIFT_3</td>\n",
       "      <td>DRIFT</td>\n",
       "      <td>1.0</td>\n",
       "      <td>7.0</td>\n",
       "      <td>459.019012</td>\n",
       "      <td>1.146029</td>\n",
       "      <td>0.002399</td>\n",
       "      <td>373.516585</td>\n",
       "      <td>-0.939396</td>\n",
       "      <td>0.003018</td>\n",
       "      <td>0.0</td>\n",
       "      <td>0.0</td>\n",
       "      <td>0.0</td>\n",
       "      <td>0.0</td>\n",
       "      <td>0.0</td>\n",
       "      <td>0.0</td>\n",
       "      <td>0.0</td>\n",
       "      <td>0.0</td>\n",
       "    </tr>\n",
       "  </tbody>\n",
       "</table>\n",
       "</div>"
      ],
      "text/plain": [
       "           NAME     KEYWORD    L    S        BETX      ALFX       MUX  \\\n",
       "0  MYCELL$START      MARKER  0.0  0.0  463.623288 -1.156109  0.000000   \n",
       "1   QUADRUPOLE1  QUADRUPOLE  5.0  5.0  463.623288  1.156109  0.001709   \n",
       "2       DRIFT_3       DRIFT  1.0  6.0  461.316110  1.151069  0.002053   \n",
       "3       MARKER6      MARKER  0.0  6.0  461.316110  1.151069  0.002053   \n",
       "4       DRIFT_3       DRIFT  1.0  7.0  459.019012  1.146029  0.002399   \n",
       "\n",
       "         BETY      ALFY       MUY    X   PX    Y   PY   DX   DY  DPX  DPY  \n",
       "0  369.779162  0.929316  0.000000  0.0  0.0  0.0  0.0  0.0  0.0  0.0  0.0  \n",
       "1  369.779162 -0.929316  0.002161  0.0  0.0  0.0  0.0  0.0  0.0  0.0  0.0  \n",
       "2  371.642834 -0.934356  0.002590  0.0  0.0  0.0  0.0  0.0  0.0  0.0  0.0  \n",
       "3  371.642834 -0.934356  0.002590  0.0  0.0  0.0  0.0  0.0  0.0  0.0  0.0  \n",
       "4  373.516585 -0.939396  0.003018  0.0  0.0  0.0  0.0  0.0  0.0  0.0  0.0  "
      ]
     },
     "execution_count": 42,
     "metadata": {},
     "output_type": "execute_result"
    }
   ],
   "source": [
    "myDF=madx.tfs2pd('./secondpart/fifthTwiss.txt')\n",
    "myDF\n",
    "myDFTable=myDF.iloc[0].TABLE\n",
    "myDFTable.head()"
   ]
  },
  {
   "cell_type": "code",
   "execution_count": 43,
   "metadata": {},
   "outputs": [
    {
     "data": {
      "image/png": "[encoded data removed]",
      "text/plain": [
       "<matplotlib.figure.Figure at 0x1135261d0>"
      ]
     },
     "metadata": {
      "needs_background": "light"
     },
     "output_type": "display_data"
    }
   ],
   "source": [
    "plt.plot(myDFTable['S'],myDFTable['BETX'],'.-b',label='$\\\\beta_x$')\n",
    "plt.plot(myDFTable['S'],myDFTable['BETY'],'.-r',label='$\\\\beta_y$')\n",
    "plt.xlabel('s [m]')\n",
    "plt.ylabel('[m]')\n",
    "plt.legend(loc='best')\n",
    "plt.grid()"
   ]
  },
  {
   "cell_type": "code",
   "execution_count": 44,
   "metadata": {},
   "outputs": [
    {
     "data": {
      "text/plain": [
       "0.03853163530314145"
      ]
     },
     "execution_count": 44,
     "metadata": {},
     "output_type": "execute_result"
    }
   ],
   "source": [
    "# computing the integral\n",
    "np.trapz(1/myDFTable['BETX'],myDFTable['S'])/2/np.pi"
   ]
  },
  {
   "cell_type": "code",
   "execution_count": 45,
   "metadata": {},
   "outputs": [
    {
     "name": "stdout",
     "output_type": "stream",
     "text": [
      "makethin: slicing sequence : mycell\n",
      "enter Twiss module\n",
      "  \n",
      "iteration:   1 error:   0.000000E+00 deltap:   0.000000E+00\n",
      "orbit:   0.000000E+00  0.000000E+00  0.000000E+00  0.000000E+00  0.000000E+00  0.000000E+00\n",
      "++++++ table: summ\n",
      "            length             orbit5               alfa            gammatr \n",
      "               100                 -0   -2.775557562e-16       -60023992.72 \n",
      "                q1                dq1            betxmax              dxmax \n",
      "     0.03853347061     -0.04384710631        466.5193743                  0 \n",
      "             dxrms             xcomax             xcorms                 q2 \n",
      "                 0                  0                  0      0.03853347061 \n",
      "               dq2            betymax              dymax              dyrms \n",
      "    -0.04384710631\n",
      "       466.5193743                  0                  0 \n",
      "            ycomax             ycorms             deltap            synch_1 \n",
      "                 0                  0                  0\n",
      "                 0 \n",
      "           synch_2            synch_3\n",
      "           synch_4\n",
      "           synch_5 \n",
      "                 0                  0                  0\n",
      "                 0 \n",
      "            nflips \n",
      "                 0 \n"
     ]
    }
   ],
   "source": [
    "myString='''\n",
    "select, flag=makethin, class=quadrupole, slice=5; \n",
    "makethin,sequence=myCell;\n",
    "use,sequence=myCell;      \n",
    "twiss,sequence=myCell,file=./secondpart/sixthTwiss.txt;\n",
    "'''\n",
    "myMad.input(myString);"
   ]
  },
  {
   "cell_type": "code",
   "execution_count": 46,
   "metadata": {},
   "outputs": [],
   "source": [
    "myDF=madx.tfs2pd('./secondpart/sixthtwiss.txt')\n",
    "myDF\n",
    "myDFTable=myDF.iloc[0].TABLE"
   ]
  },
  {
   "cell_type": "code",
   "execution_count": 47,
   "metadata": {},
   "outputs": [
    {
     "data": {
      "image/png": "[encoded data removed]",
      "text/plain": [
       "<matplotlib.figure.Figure at 0x1136385f8>"
      ]
     },
     "metadata": {
      "needs_background": "light"
     },
     "output_type": "display_data"
    }
   ],
   "source": [
    "plt.plot(myDFTable['S'],myDFTable['BETX'],'.-b',label='$\\\\beta_x$')\n",
    "plt.plot(myDFTable['S'],myDFTable['BETY'],'.-r',label='$\\\\beta_y$')\n",
    "plt.xlabel('s [m]')\n",
    "plt.ylabel('[m]')\n",
    "plt.legend(loc='best')\n",
    "plt.grid()"
   ]
  },
  {
   "cell_type": "code",
   "execution_count": 48,
   "metadata": {},
   "outputs": [
    {
     "data": {
      "text/plain": [
       "0.038533549045589637"
      ]
     },
     "execution_count": 48,
     "metadata": {},
     "output_type": "execute_result"
    }
   ],
   "source": [
    "np.trapz(1/myDFTable['BETX'],myDFTable['S'])/2/np.pi"
   ]
  }
 ],
 "metadata": {
  "kernelspec": {
   "display_name": "Python 3",
   "language": "python",
   "name": "python3"
  },
  "language_info": {
   "codemirror_mode": {
    "name": "ipython",
    "version": 3
   },
   "file_extension": ".py",
   "mimetype": "text/x-python",
   "name": "python",
   "nbconvert_exporter": "python",
   "pygments_lexer": "ipython3",
   "version": "3.5.6"
  }
 },
 "nbformat": 4,
 "nbformat_minor": 2
}
